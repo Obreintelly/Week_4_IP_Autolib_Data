{
  "nbformat": 4,
  "nbformat_minor": 0,
  "metadata": {
    "colab": {
      "name": "Moringa_Data_Science_Prep_W4_Independent_Project_2021_03_Obrein_Telly_Autolib.ipynb",
      "provenance": [],
      "collapsed_sections": [],
      "toc_visible": true,
      "authorship_tag": "ABX9TyPc3/6TAzk9J6uqRLsAEypQ",
      "include_colab_link": true
    },
    "kernelspec": {
      "name": "python3",
      "display_name": "Python 3"
    }
  },
  "cells": [
    {
      "cell_type": "markdown",
      "metadata": {
        "id": "view-in-github",
        "colab_type": "text"
      },
      "source": [
        "<a href=\"https://colab.research.google.com/github/Obreintelly/Week_4_IP_Autolib_Data/blob/main/Moringa_Data_Science_Prep_W4_Independent_Project_2021_03_Obrein_Telly_Autolib.ipynb\" target=\"_parent\"><img src=\"https://colab.research.google.com/assets/colab-badge.svg\" alt=\"Open In Colab\"/></a>"
      ]
    },
    {
      "cell_type": "markdown",
      "metadata": {
        "id": "feqWBOQW6I8x"
      },
      "source": [
        "**Section 1:** Loading Libraries and Importing Dataset\r\n",
        "\r\n",
        "\r\n",
        "\r\n"
      ]
    },
    {
      "cell_type": "markdown",
      "metadata": {
        "id": "tDjJlgtbHL-0"
      },
      "source": [
        "# 1.1 Loading the requisite libraries"
      ]
    },
    {
      "cell_type": "code",
      "metadata": {
        "id": "t-m6BtFXY-o3"
      },
      "source": [
        "import pandas as pd\r\n",
        "import numpy as np\r\n",
        "import seaborn as sns\r\n",
        "import matplotlib.pyplot as plt "
      ],
      "execution_count": 355,
      "outputs": []
    },
    {
      "cell_type": "markdown",
      "metadata": {
        "id": "QuMjl5TPG4AG"
      },
      "source": [
        "Importing our Autolib Dataset onto Colab"
      ]
    },
    {
      "cell_type": "code",
      "metadata": {
        "id": "kOAfBaG4gVQZ"
      },
      "source": [
        "#Lets import our dataset and preview our dataset\r\n",
        "url ='http://bit.ly/autolib_dataset'\r\n",
        "\r\n",
        "autolib= pd.read_csv(url)\r\n"
      ],
      "execution_count": 356,
      "outputs": []
    },
    {
      "cell_type": "markdown",
      "metadata": {
        "id": "2jR8GthtIEvx"
      },
      "source": [
        "#1.2 Previewing Our Dataset"
      ]
    },
    {
      "cell_type": "code",
      "metadata": {
        "colab": {
          "base_uri": "https://localhost:8080/",
          "height": 753
        },
        "id": "0HG6zPSOICwz",
        "outputId": "94e5eaf2-8082-4fac-d210-36976e777f39"
      },
      "source": [
        "#Previewing the first 10 rows\r\n",
        "autolib.head(10)"
      ],
      "execution_count": 357,
      "outputs": [
        {
          "output_type": "execute_result",
          "data": {
            "text/html": [
              "<div>\n",
              "<style scoped>\n",
              "    .dataframe tbody tr th:only-of-type {\n",
              "        vertical-align: middle;\n",
              "    }\n",
              "\n",
              "    .dataframe tbody tr th {\n",
              "        vertical-align: top;\n",
              "    }\n",
              "\n",
              "    .dataframe thead th {\n",
              "        text-align: right;\n",
              "    }\n",
              "</style>\n",
              "<table border=\"1\" class=\"dataframe\">\n",
              "  <thead>\n",
              "    <tr style=\"text-align: right;\">\n",
              "      <th></th>\n",
              "      <th>Address</th>\n",
              "      <th>Cars</th>\n",
              "      <th>Bluecar counter</th>\n",
              "      <th>Utilib counter</th>\n",
              "      <th>Utilib 1.4 counter</th>\n",
              "      <th>Charge Slots</th>\n",
              "      <th>Charging Status</th>\n",
              "      <th>City</th>\n",
              "      <th>Displayed comment</th>\n",
              "      <th>ID</th>\n",
              "      <th>Kind</th>\n",
              "      <th>Geo point</th>\n",
              "      <th>Postal code</th>\n",
              "      <th>Public name</th>\n",
              "      <th>Rental status</th>\n",
              "      <th>Scheduled at</th>\n",
              "      <th>Slots</th>\n",
              "      <th>Station type</th>\n",
              "      <th>Status</th>\n",
              "      <th>Subscription status</th>\n",
              "      <th>year</th>\n",
              "      <th>month</th>\n",
              "      <th>day</th>\n",
              "      <th>hour</th>\n",
              "      <th>minute</th>\n",
              "    </tr>\n",
              "  </thead>\n",
              "  <tbody>\n",
              "    <tr>\n",
              "      <th>0</th>\n",
              "      <td>2 Avenue de Suffren</td>\n",
              "      <td>0</td>\n",
              "      <td>0</td>\n",
              "      <td>0</td>\n",
              "      <td>0</td>\n",
              "      <td>0</td>\n",
              "      <td>nonexistent</td>\n",
              "      <td>Paris</td>\n",
              "      <td>NaN</td>\n",
              "      <td>paris-suffren-2</td>\n",
              "      <td>STATION</td>\n",
              "      <td>48.857, 2.2917</td>\n",
              "      <td>75015</td>\n",
              "      <td>Paris/Suffren/2</td>\n",
              "      <td>operational</td>\n",
              "      <td>NaN</td>\n",
              "      <td>2</td>\n",
              "      <td>station</td>\n",
              "      <td>ok</td>\n",
              "      <td>nonexistent</td>\n",
              "      <td>2018</td>\n",
              "      <td>4</td>\n",
              "      <td>8</td>\n",
              "      <td>11</td>\n",
              "      <td>43</td>\n",
              "    </tr>\n",
              "    <tr>\n",
              "      <th>1</th>\n",
              "      <td>145 Rue Raymond Losserand</td>\n",
              "      <td>6</td>\n",
              "      <td>6</td>\n",
              "      <td>0</td>\n",
              "      <td>0</td>\n",
              "      <td>0</td>\n",
              "      <td>operational</td>\n",
              "      <td>Paris</td>\n",
              "      <td>NaN</td>\n",
              "      <td>paris-raymondlosserand-145</td>\n",
              "      <td>STATION</td>\n",
              "      <td>48.83126, 2.313088</td>\n",
              "      <td>75014</td>\n",
              "      <td>Paris/Raymond Losserand/145</td>\n",
              "      <td>operational</td>\n",
              "      <td>NaN</td>\n",
              "      <td>0</td>\n",
              "      <td>station</td>\n",
              "      <td>ok</td>\n",
              "      <td>nonexistent</td>\n",
              "      <td>2018</td>\n",
              "      <td>4</td>\n",
              "      <td>6</td>\n",
              "      <td>7</td>\n",
              "      <td>24</td>\n",
              "    </tr>\n",
              "    <tr>\n",
              "      <th>2</th>\n",
              "      <td>2 Avenue John Fitzgerald Kennedy</td>\n",
              "      <td>3</td>\n",
              "      <td>3</td>\n",
              "      <td>0</td>\n",
              "      <td>2</td>\n",
              "      <td>0</td>\n",
              "      <td>operational</td>\n",
              "      <td>Le Bourget</td>\n",
              "      <td>NaN</td>\n",
              "      <td>lebourget-johnfitzgeraldkennedy-2</td>\n",
              "      <td>STATION</td>\n",
              "      <td>48.938103, 2.4286035</td>\n",
              "      <td>93350</td>\n",
              "      <td>Le Bourget/John Fitzgerald Kennedy/2</td>\n",
              "      <td>operational</td>\n",
              "      <td>NaN</td>\n",
              "      <td>1</td>\n",
              "      <td>station</td>\n",
              "      <td>ok</td>\n",
              "      <td>nonexistent</td>\n",
              "      <td>2018</td>\n",
              "      <td>4</td>\n",
              "      <td>3</td>\n",
              "      <td>20</td>\n",
              "      <td>14</td>\n",
              "    </tr>\n",
              "    <tr>\n",
              "      <th>3</th>\n",
              "      <td>51 Rue EugÃ¨ne OudinÃ©</td>\n",
              "      <td>3</td>\n",
              "      <td>3</td>\n",
              "      <td>1</td>\n",
              "      <td>0</td>\n",
              "      <td>1</td>\n",
              "      <td>operational</td>\n",
              "      <td>Paris</td>\n",
              "      <td>NaN</td>\n",
              "      <td>paris-eugeneoudine-51</td>\n",
              "      <td>STATION</td>\n",
              "      <td>48.8250327, 2.3725162</td>\n",
              "      <td>75013</td>\n",
              "      <td>Paris/EugÃ¨ne OudinÃ©/51</td>\n",
              "      <td>operational</td>\n",
              "      <td>NaN</td>\n",
              "      <td>2</td>\n",
              "      <td>station</td>\n",
              "      <td>ok</td>\n",
              "      <td>nonexistent</td>\n",
              "      <td>2018</td>\n",
              "      <td>4</td>\n",
              "      <td>4</td>\n",
              "      <td>4</td>\n",
              "      <td>37</td>\n",
              "    </tr>\n",
              "    <tr>\n",
              "      <th>4</th>\n",
              "      <td>6 avenue de la Porte de Champerret</td>\n",
              "      <td>3</td>\n",
              "      <td>3</td>\n",
              "      <td>0</td>\n",
              "      <td>0</td>\n",
              "      <td>0</td>\n",
              "      <td>nonexistent</td>\n",
              "      <td>Paris</td>\n",
              "      <td>NaN</td>\n",
              "      <td>paris-portedechamperret-6</td>\n",
              "      <td>PARKING</td>\n",
              "      <td>48.8862632, 2.2874511</td>\n",
              "      <td>75017</td>\n",
              "      <td>Paris/Porte de Champerret/6</td>\n",
              "      <td>operational</td>\n",
              "      <td>NaN</td>\n",
              "      <td>3</td>\n",
              "      <td>station</td>\n",
              "      <td>ok</td>\n",
              "      <td>nonexistent</td>\n",
              "      <td>2018</td>\n",
              "      <td>4</td>\n",
              "      <td>8</td>\n",
              "      <td>17</td>\n",
              "      <td>23</td>\n",
              "    </tr>\n",
              "    <tr>\n",
              "      <th>5</th>\n",
              "      <td>8 Boulevard Voltaire</td>\n",
              "      <td>0</td>\n",
              "      <td>0</td>\n",
              "      <td>0</td>\n",
              "      <td>0</td>\n",
              "      <td>0</td>\n",
              "      <td>nonexistent</td>\n",
              "      <td>Paris</td>\n",
              "      <td>NaN</td>\n",
              "      <td>paris-voltaire-8</td>\n",
              "      <td>STATION</td>\n",
              "      <td>48.8657658, 2.3664376</td>\n",
              "      <td>75011</td>\n",
              "      <td>Paris/Voltaire/8</td>\n",
              "      <td>operational</td>\n",
              "      <td>NaN</td>\n",
              "      <td>4</td>\n",
              "      <td>station</td>\n",
              "      <td>ok</td>\n",
              "      <td>nonexistent</td>\n",
              "      <td>2018</td>\n",
              "      <td>4</td>\n",
              "      <td>6</td>\n",
              "      <td>7</td>\n",
              "      <td>2</td>\n",
              "    </tr>\n",
              "    <tr>\n",
              "      <th>6</th>\n",
              "      <td>37 rue Leblanc</td>\n",
              "      <td>0</td>\n",
              "      <td>0</td>\n",
              "      <td>0</td>\n",
              "      <td>0</td>\n",
              "      <td>0</td>\n",
              "      <td>nonexistent</td>\n",
              "      <td>Paris</td>\n",
              "      <td>Station en parking (niv -1), accÃ¨s 37 rue Leb...</td>\n",
              "      <td>paris-citroencevennes-parking</td>\n",
              "      <td>PARKING</td>\n",
              "      <td>48.83874, 2.27641</td>\n",
              "      <td>75015</td>\n",
              "      <td>Paris/CitroÃ«n CÃ©vennes/Parking</td>\n",
              "      <td>broken</td>\n",
              "      <td>NaN</td>\n",
              "      <td>0</td>\n",
              "      <td>station</td>\n",
              "      <td>closed</td>\n",
              "      <td>nonexistent</td>\n",
              "      <td>2018</td>\n",
              "      <td>4</td>\n",
              "      <td>8</td>\n",
              "      <td>18</td>\n",
              "      <td>20</td>\n",
              "    </tr>\n",
              "    <tr>\n",
              "      <th>7</th>\n",
              "      <td>17 Rue des Luaps ProlongÃ©e</td>\n",
              "      <td>3</td>\n",
              "      <td>3</td>\n",
              "      <td>1</td>\n",
              "      <td>0</td>\n",
              "      <td>0</td>\n",
              "      <td>nonexistent</td>\n",
              "      <td>Nanterre</td>\n",
              "      <td>NaN</td>\n",
              "      <td>nanterre-luaps-17</td>\n",
              "      <td>STATION</td>\n",
              "      <td>48.88069, 2.21063</td>\n",
              "      <td>92000</td>\n",
              "      <td>Nanterre/Luaps/17</td>\n",
              "      <td>operational</td>\n",
              "      <td>NaN</td>\n",
              "      <td>0</td>\n",
              "      <td>station</td>\n",
              "      <td>ok</td>\n",
              "      <td>nonexistent</td>\n",
              "      <td>2018</td>\n",
              "      <td>4</td>\n",
              "      <td>4</td>\n",
              "      <td>22</td>\n",
              "      <td>13</td>\n",
              "    </tr>\n",
              "    <tr>\n",
              "      <th>8</th>\n",
              "      <td>34 avenue Jean Moulin</td>\n",
              "      <td>1</td>\n",
              "      <td>1</td>\n",
              "      <td>0</td>\n",
              "      <td>0</td>\n",
              "      <td>0</td>\n",
              "      <td>nonexistent</td>\n",
              "      <td>Paris</td>\n",
              "      <td>NaN</td>\n",
              "      <td>paris-jeanmoulin-34</td>\n",
              "      <td>STATION</td>\n",
              "      <td>48.8266807, 2.3237355</td>\n",
              "      <td>75014</td>\n",
              "      <td>Paris/Jean Moulin/34</td>\n",
              "      <td>operational</td>\n",
              "      <td>NaN</td>\n",
              "      <td>4</td>\n",
              "      <td>station</td>\n",
              "      <td>ok</td>\n",
              "      <td>nonexistent</td>\n",
              "      <td>2018</td>\n",
              "      <td>4</td>\n",
              "      <td>2</td>\n",
              "      <td>22</td>\n",
              "      <td>58</td>\n",
              "    </tr>\n",
              "    <tr>\n",
              "      <th>9</th>\n",
              "      <td>41 boulevard de Rochechouart</td>\n",
              "      <td>6</td>\n",
              "      <td>6</td>\n",
              "      <td>0</td>\n",
              "      <td>0</td>\n",
              "      <td>0</td>\n",
              "      <td>nonexistent</td>\n",
              "      <td>Paris</td>\n",
              "      <td>NaN</td>\n",
              "      <td>paris-anvers-parking</td>\n",
              "      <td>PARKING</td>\n",
              "      <td>48.88267, 2.34405</td>\n",
              "      <td>75009</td>\n",
              "      <td>Paris/Anvers/Parking</td>\n",
              "      <td>operational</td>\n",
              "      <td>NaN</td>\n",
              "      <td>0</td>\n",
              "      <td>station</td>\n",
              "      <td>ok</td>\n",
              "      <td>nonexistent</td>\n",
              "      <td>2018</td>\n",
              "      <td>4</td>\n",
              "      <td>4</td>\n",
              "      <td>15</td>\n",
              "      <td>2</td>\n",
              "    </tr>\n",
              "  </tbody>\n",
              "</table>\n",
              "</div>"
            ],
            "text/plain": [
              "                              Address  Cars  Bluecar counter  ...  day  hour  minute\n",
              "0                 2 Avenue de Suffren     0                0  ...    8    11      43\n",
              "1           145 Rue Raymond Losserand     6                6  ...    6     7      24\n",
              "2    2 Avenue John Fitzgerald Kennedy     3                3  ...    3    20      14\n",
              "3              51 Rue EugÃ¨ne OudinÃ©     3                3  ...    4     4      37\n",
              "4  6 avenue de la Porte de Champerret     3                3  ...    8    17      23\n",
              "5                8 Boulevard Voltaire     0                0  ...    6     7       2\n",
              "6                      37 rue Leblanc     0                0  ...    8    18      20\n",
              "7         17 Rue des Luaps ProlongÃ©e     3                3  ...    4    22      13\n",
              "8               34 avenue Jean Moulin     1                1  ...    2    22      58\n",
              "9        41 boulevard de Rochechouart     6                6  ...    4    15       2\n",
              "\n",
              "[10 rows x 25 columns]"
            ]
          },
          "metadata": {
            "tags": []
          },
          "execution_count": 357
        }
      ]
    },
    {
      "cell_type": "code",
      "metadata": {
        "colab": {
          "base_uri": "https://localhost:8080/",
          "height": 719
        },
        "id": "nzhYgSL5IrAi",
        "outputId": "3e072dde-c330-4b0e-d4c1-799568647dcb"
      },
      "source": [
        "#Previewing the last 10 rows\r\n",
        "autolib.tail(10)"
      ],
      "execution_count": 358,
      "outputs": [
        {
          "output_type": "execute_result",
          "data": {
            "text/html": [
              "<div>\n",
              "<style scoped>\n",
              "    .dataframe tbody tr th:only-of-type {\n",
              "        vertical-align: middle;\n",
              "    }\n",
              "\n",
              "    .dataframe tbody tr th {\n",
              "        vertical-align: top;\n",
              "    }\n",
              "\n",
              "    .dataframe thead th {\n",
              "        text-align: right;\n",
              "    }\n",
              "</style>\n",
              "<table border=\"1\" class=\"dataframe\">\n",
              "  <thead>\n",
              "    <tr style=\"text-align: right;\">\n",
              "      <th></th>\n",
              "      <th>Address</th>\n",
              "      <th>Cars</th>\n",
              "      <th>Bluecar counter</th>\n",
              "      <th>Utilib counter</th>\n",
              "      <th>Utilib 1.4 counter</th>\n",
              "      <th>Charge Slots</th>\n",
              "      <th>Charging Status</th>\n",
              "      <th>City</th>\n",
              "      <th>Displayed comment</th>\n",
              "      <th>ID</th>\n",
              "      <th>Kind</th>\n",
              "      <th>Geo point</th>\n",
              "      <th>Postal code</th>\n",
              "      <th>Public name</th>\n",
              "      <th>Rental status</th>\n",
              "      <th>Scheduled at</th>\n",
              "      <th>Slots</th>\n",
              "      <th>Station type</th>\n",
              "      <th>Status</th>\n",
              "      <th>Subscription status</th>\n",
              "      <th>year</th>\n",
              "      <th>month</th>\n",
              "      <th>day</th>\n",
              "      <th>hour</th>\n",
              "      <th>minute</th>\n",
              "    </tr>\n",
              "  </thead>\n",
              "  <tbody>\n",
              "    <tr>\n",
              "      <th>4990</th>\n",
              "      <td>47 boulevard de l'HÃ´pital</td>\n",
              "      <td>0</td>\n",
              "      <td>0</td>\n",
              "      <td>0</td>\n",
              "      <td>0</td>\n",
              "      <td>0</td>\n",
              "      <td>operational</td>\n",
              "      <td>Paris</td>\n",
              "      <td>NaN</td>\n",
              "      <td>paris-hopital-47</td>\n",
              "      <td>STATION</td>\n",
              "      <td>48.84019, 2.362478</td>\n",
              "      <td>75013</td>\n",
              "      <td>Paris/HÃ´pital/47</td>\n",
              "      <td>operational</td>\n",
              "      <td>NaN</td>\n",
              "      <td>4</td>\n",
              "      <td>station</td>\n",
              "      <td>ok</td>\n",
              "      <td>nonexistent</td>\n",
              "      <td>2018</td>\n",
              "      <td>4</td>\n",
              "      <td>3</td>\n",
              "      <td>21</td>\n",
              "      <td>13</td>\n",
              "    </tr>\n",
              "    <tr>\n",
              "      <th>4991</th>\n",
              "      <td>56 avenue du MarÃ©chal de Lattre de Tassigny</td>\n",
              "      <td>5</td>\n",
              "      <td>5</td>\n",
              "      <td>0</td>\n",
              "      <td>0</td>\n",
              "      <td>0</td>\n",
              "      <td>nonexistent</td>\n",
              "      <td>CrÃ©teil</td>\n",
              "      <td>NaN</td>\n",
              "      <td>creteil-marechaldelattredetassigny-56</td>\n",
              "      <td>STATION</td>\n",
              "      <td>48.79834, 2.455145</td>\n",
              "      <td>94000</td>\n",
              "      <td>CrÃ©teil/MarÃ©chal de Lattre de Tassigny/56</td>\n",
              "      <td>operational</td>\n",
              "      <td>NaN</td>\n",
              "      <td>1</td>\n",
              "      <td>station</td>\n",
              "      <td>ok</td>\n",
              "      <td>nonexistent</td>\n",
              "      <td>2018</td>\n",
              "      <td>4</td>\n",
              "      <td>7</td>\n",
              "      <td>20</td>\n",
              "      <td>43</td>\n",
              "    </tr>\n",
              "    <tr>\n",
              "      <th>4992</th>\n",
              "      <td>3 avenue d'Ivry</td>\n",
              "      <td>0</td>\n",
              "      <td>0</td>\n",
              "      <td>0</td>\n",
              "      <td>0</td>\n",
              "      <td>2</td>\n",
              "      <td>operational</td>\n",
              "      <td>Paris</td>\n",
              "      <td>NaN</td>\n",
              "      <td>paris-ivry-3</td>\n",
              "      <td>STATION</td>\n",
              "      <td>48.82175, 2.36868</td>\n",
              "      <td>75013</td>\n",
              "      <td>Paris/Ivry/3</td>\n",
              "      <td>operational</td>\n",
              "      <td>NaN</td>\n",
              "      <td>6</td>\n",
              "      <td>station</td>\n",
              "      <td>ok</td>\n",
              "      <td>nonexistent</td>\n",
              "      <td>2018</td>\n",
              "      <td>4</td>\n",
              "      <td>9</td>\n",
              "      <td>23</td>\n",
              "      <td>1</td>\n",
              "    </tr>\n",
              "    <tr>\n",
              "      <th>4993</th>\n",
              "      <td>6 avenue Charles-de-Gaulle</td>\n",
              "      <td>6</td>\n",
              "      <td>6</td>\n",
              "      <td>0</td>\n",
              "      <td>0</td>\n",
              "      <td>0</td>\n",
              "      <td>nonexistent</td>\n",
              "      <td>Le Plessis-Robinson</td>\n",
              "      <td>NaN</td>\n",
              "      <td>leplessisrobinson-charlesdegaulle-6</td>\n",
              "      <td>STATION</td>\n",
              "      <td>48.781849, 2.263931</td>\n",
              "      <td>92350</td>\n",
              "      <td>Le Plessis-Robinson/Charles-de-Gaulle/6</td>\n",
              "      <td>operational</td>\n",
              "      <td>NaN</td>\n",
              "      <td>0</td>\n",
              "      <td>station</td>\n",
              "      <td>ok</td>\n",
              "      <td>nonexistent</td>\n",
              "      <td>2018</td>\n",
              "      <td>4</td>\n",
              "      <td>2</td>\n",
              "      <td>4</td>\n",
              "      <td>43</td>\n",
              "    </tr>\n",
              "    <tr>\n",
              "      <th>4994</th>\n",
              "      <td>15 rue de Rocroy</td>\n",
              "      <td>0</td>\n",
              "      <td>0</td>\n",
              "      <td>0</td>\n",
              "      <td>0</td>\n",
              "      <td>0</td>\n",
              "      <td>operational</td>\n",
              "      <td>Paris</td>\n",
              "      <td>NaN</td>\n",
              "      <td>paris-rocroy-15</td>\n",
              "      <td>STATION</td>\n",
              "      <td>48.8801236, 2.3509617</td>\n",
              "      <td>75010</td>\n",
              "      <td>Paris/Rocroy/15</td>\n",
              "      <td>operational</td>\n",
              "      <td>NaN</td>\n",
              "      <td>1</td>\n",
              "      <td>station</td>\n",
              "      <td>ok</td>\n",
              "      <td>nonexistent</td>\n",
              "      <td>2018</td>\n",
              "      <td>4</td>\n",
              "      <td>1</td>\n",
              "      <td>20</td>\n",
              "      <td>49</td>\n",
              "    </tr>\n",
              "    <tr>\n",
              "      <th>4995</th>\n",
              "      <td>8 avenue MÃ©nelotte</td>\n",
              "      <td>2</td>\n",
              "      <td>2</td>\n",
              "      <td>0</td>\n",
              "      <td>0</td>\n",
              "      <td>0</td>\n",
              "      <td>nonexistent</td>\n",
              "      <td>Colombes</td>\n",
              "      <td>NaN</td>\n",
              "      <td>colombes-menelotte-8</td>\n",
              "      <td>STATION</td>\n",
              "      <td>48.9246525, 2.259313</td>\n",
              "      <td>92700</td>\n",
              "      <td>Colombes/MÃ©nelotte/8</td>\n",
              "      <td>operational</td>\n",
              "      <td>NaN</td>\n",
              "      <td>3</td>\n",
              "      <td>station</td>\n",
              "      <td>ok</td>\n",
              "      <td>nonexistent</td>\n",
              "      <td>2018</td>\n",
              "      <td>4</td>\n",
              "      <td>6</td>\n",
              "      <td>11</td>\n",
              "      <td>26</td>\n",
              "    </tr>\n",
              "    <tr>\n",
              "      <th>4996</th>\n",
              "      <td>37 rue de Dantzig</td>\n",
              "      <td>4</td>\n",
              "      <td>4</td>\n",
              "      <td>0</td>\n",
              "      <td>0</td>\n",
              "      <td>1</td>\n",
              "      <td>operational</td>\n",
              "      <td>Paris</td>\n",
              "      <td>NaN</td>\n",
              "      <td>paris-dantzig-37</td>\n",
              "      <td>STATION</td>\n",
              "      <td>48.8335103, 2.2987201</td>\n",
              "      <td>75015</td>\n",
              "      <td>Paris/Dantzig/37</td>\n",
              "      <td>operational</td>\n",
              "      <td>NaN</td>\n",
              "      <td>2</td>\n",
              "      <td>station</td>\n",
              "      <td>ok</td>\n",
              "      <td>nonexistent</td>\n",
              "      <td>2018</td>\n",
              "      <td>4</td>\n",
              "      <td>4</td>\n",
              "      <td>16</td>\n",
              "      <td>56</td>\n",
              "    </tr>\n",
              "    <tr>\n",
              "      <th>4997</th>\n",
              "      <td>142 rue du Bac</td>\n",
              "      <td>1</td>\n",
              "      <td>1</td>\n",
              "      <td>0</td>\n",
              "      <td>0</td>\n",
              "      <td>1</td>\n",
              "      <td>operational</td>\n",
              "      <td>Paris</td>\n",
              "      <td>NaN</td>\n",
              "      <td>paris-bac-142</td>\n",
              "      <td>STATION</td>\n",
              "      <td>48.8508194, 2.3237968</td>\n",
              "      <td>75007</td>\n",
              "      <td>Paris/Bac/142</td>\n",
              "      <td>operational</td>\n",
              "      <td>NaN</td>\n",
              "      <td>4</td>\n",
              "      <td>station</td>\n",
              "      <td>ok</td>\n",
              "      <td>nonexistent</td>\n",
              "      <td>2018</td>\n",
              "      <td>4</td>\n",
              "      <td>1</td>\n",
              "      <td>7</td>\n",
              "      <td>1</td>\n",
              "    </tr>\n",
              "    <tr>\n",
              "      <th>4998</th>\n",
              "      <td>2 avenue du Val de Fontenay</td>\n",
              "      <td>2</td>\n",
              "      <td>2</td>\n",
              "      <td>0</td>\n",
              "      <td>0</td>\n",
              "      <td>0</td>\n",
              "      <td>nonexistent</td>\n",
              "      <td>Fontenay-Sous-Bois</td>\n",
              "      <td>NaN</td>\n",
              "      <td>fontenaysousbois-valdefontenay-2</td>\n",
              "      <td>STATION</td>\n",
              "      <td>48.8528247, 2.4869085</td>\n",
              "      <td>94120</td>\n",
              "      <td>Fontenay-Sous-Bois/Val de Fontenay/2</td>\n",
              "      <td>operational</td>\n",
              "      <td>NaN</td>\n",
              "      <td>3</td>\n",
              "      <td>station</td>\n",
              "      <td>ok</td>\n",
              "      <td>nonexistent</td>\n",
              "      <td>2018</td>\n",
              "      <td>4</td>\n",
              "      <td>4</td>\n",
              "      <td>17</td>\n",
              "      <td>27</td>\n",
              "    </tr>\n",
              "    <tr>\n",
              "      <th>4999</th>\n",
              "      <td>5 Rue Henry Brisson</td>\n",
              "      <td>4</td>\n",
              "      <td>4</td>\n",
              "      <td>0</td>\n",
              "      <td>0</td>\n",
              "      <td>0</td>\n",
              "      <td>operational</td>\n",
              "      <td>Paris</td>\n",
              "      <td>NaN</td>\n",
              "      <td>paris-henrybrisson-5</td>\n",
              "      <td>STATION</td>\n",
              "      <td>48.8984293, 2.3347923</td>\n",
              "      <td>75018</td>\n",
              "      <td>Paris/Henry Brisson/5</td>\n",
              "      <td>operational</td>\n",
              "      <td>NaN</td>\n",
              "      <td>0</td>\n",
              "      <td>station</td>\n",
              "      <td>ok</td>\n",
              "      <td>nonexistent</td>\n",
              "      <td>2018</td>\n",
              "      <td>4</td>\n",
              "      <td>8</td>\n",
              "      <td>10</td>\n",
              "      <td>2</td>\n",
              "    </tr>\n",
              "  </tbody>\n",
              "</table>\n",
              "</div>"
            ],
            "text/plain": [
              "                                           Address  Cars  ...  hour  minute\n",
              "4990                    47 boulevard de l'HÃ´pital     0  ...    21      13\n",
              "4991  56 avenue du MarÃ©chal de Lattre de Tassigny     5  ...    20      43\n",
              "4992                               3 avenue d'Ivry     0  ...    23       1\n",
              "4993                    6 avenue Charles-de-Gaulle     6  ...     4      43\n",
              "4994                              15 rue de Rocroy     0  ...    20      49\n",
              "4995                           8 avenue MÃ©nelotte     2  ...    11      26\n",
              "4996                             37 rue de Dantzig     4  ...    16      56\n",
              "4997                                142 rue du Bac     1  ...     7       1\n",
              "4998                   2 avenue du Val de Fontenay     2  ...    17      27\n",
              "4999                           5 Rue Henry Brisson     4  ...    10       2\n",
              "\n",
              "[10 rows x 25 columns]"
            ]
          },
          "metadata": {
            "tags": []
          },
          "execution_count": 358
        }
      ]
    },
    {
      "cell_type": "markdown",
      "metadata": {
        "id": "oMUiX4_VKDwd"
      },
      "source": [
        "1.3 Accessing Information About Our Dataset"
      ]
    },
    {
      "cell_type": "code",
      "metadata": {
        "colab": {
          "base_uri": "https://localhost:8080/"
        },
        "id": "iIYdeTYUh3HB",
        "outputId": "fd1e3fbb-ddaa-43b1-9504-7327f807bd9b"
      },
      "source": [
        "#Lets explore our data set\r\n",
        "#Ensuring all the columns have been assigned the correct datatypes \r\n",
        "autolib.info()"
      ],
      "execution_count": 359,
      "outputs": [
        {
          "output_type": "stream",
          "text": [
            "<class 'pandas.core.frame.DataFrame'>\n",
            "RangeIndex: 5000 entries, 0 to 4999\n",
            "Data columns (total 25 columns):\n",
            " #   Column               Non-Null Count  Dtype \n",
            "---  ------               --------------  ----- \n",
            " 0   Address              5000 non-null   object\n",
            " 1   Cars                 5000 non-null   int64 \n",
            " 2   Bluecar counter      5000 non-null   int64 \n",
            " 3   Utilib counter       5000 non-null   int64 \n",
            " 4   Utilib 1.4 counter   5000 non-null   int64 \n",
            " 5   Charge Slots         5000 non-null   int64 \n",
            " 6   Charging Status      5000 non-null   object\n",
            " 7   City                 5000 non-null   object\n",
            " 8   Displayed comment    111 non-null    object\n",
            " 9   ID                   5000 non-null   object\n",
            " 10  Kind                 5000 non-null   object\n",
            " 11  Geo point            5000 non-null   object\n",
            " 12  Postal code          5000 non-null   int64 \n",
            " 13  Public name          5000 non-null   object\n",
            " 14  Rental status        5000 non-null   object\n",
            " 15  Scheduled at         47 non-null     object\n",
            " 16  Slots                5000 non-null   int64 \n",
            " 17  Station type         5000 non-null   object\n",
            " 18  Status               5000 non-null   object\n",
            " 19  Subscription status  5000 non-null   object\n",
            " 20  year                 5000 non-null   int64 \n",
            " 21  month                5000 non-null   int64 \n",
            " 22  day                  5000 non-null   int64 \n",
            " 23  hour                 5000 non-null   int64 \n",
            " 24  minute               5000 non-null   int64 \n",
            "dtypes: int64(12), object(13)\n",
            "memory usage: 976.7+ KB\n"
          ],
          "name": "stdout"
        }
      ]
    },
    {
      "cell_type": "code",
      "metadata": {
        "colab": {
          "base_uri": "https://localhost:8080/"
        },
        "id": "faETXVa9jv-X",
        "outputId": "5ceef6c5-7b48-452f-fa25-0648ecfb0341"
      },
      "source": [
        "#viewing the columns of this dataframe to get familiar with the dataset before working on it\r\n",
        "autolib.columns.values.tolist()\r\n",
        "\r\n"
      ],
      "execution_count": 360,
      "outputs": [
        {
          "output_type": "execute_result",
          "data": {
            "text/plain": [
              "['Address',\n",
              " 'Cars',\n",
              " 'Bluecar counter',\n",
              " 'Utilib counter',\n",
              " 'Utilib 1.4 counter',\n",
              " 'Charge Slots',\n",
              " 'Charging Status',\n",
              " 'City',\n",
              " 'Displayed comment',\n",
              " 'ID',\n",
              " 'Kind',\n",
              " 'Geo point',\n",
              " 'Postal code',\n",
              " 'Public name',\n",
              " 'Rental status',\n",
              " 'Scheduled at',\n",
              " 'Slots',\n",
              " 'Station type',\n",
              " 'Status',\n",
              " 'Subscription status',\n",
              " 'year',\n",
              " 'month',\n",
              " 'day',\n",
              " 'hour',\n",
              " 'minute']"
            ]
          },
          "metadata": {
            "tags": []
          },
          "execution_count": 360
        }
      ]
    },
    {
      "cell_type": "markdown",
      "metadata": {
        "id": "9rViBCy0Nymd"
      },
      "source": [
        "**Section2: Cleaning Our Dataset**"
      ]
    },
    {
      "cell_type": "markdown",
      "metadata": {
        "id": "copjTWOrO9pS"
      },
      "source": [
        "2.1 For Consistency, a bit of feature reworks are needed. The columns for instance will need to be standardized."
      ]
    },
    {
      "cell_type": "code",
      "metadata": {
        "colab": {
          "base_uri": "https://localhost:8080/"
        },
        "id": "BBssdCcRxUDb",
        "outputId": "f02b57ba-471c-4377-8002-a25b50e2bbcb"
      },
      "source": [
        "#Lets change all columns to upper case, remove any trailing spaces\r\n",
        "#The str.strip function is useful in such operations\r\n",
        "\r\n",
        "autolib.columns = autolib.columns.str.strip().str.upper().str.replace(' ', '_').str.replace('(', '').str.replace(')', '').str.replace('.', '_')\r\n",
        "autolib.columns"
      ],
      "execution_count": 364,
      "outputs": [
        {
          "output_type": "execute_result",
          "data": {
            "text/plain": [
              "Index(['ADDRESS', 'CARS', 'BLUECAR_COUNTER', 'UTILIB_COUNTER',\n",
              "       'UTILIB_1_4_COUNTER', 'CHARGE_SLOTS', 'CHARGING_STATUS', 'CITY',\n",
              "       'DISPLAYED_COMMENT', 'ID', 'KIND', 'GEO_POINT', 'POSTAL_CODE',\n",
              "       'PUBLIC_NAME', 'RENTAL_STATUS', 'SCHEDULED_AT', 'SLOTS', 'STATION_TYPE',\n",
              "       'STATUS', 'SUBSCRIPTION_STATUS', 'YEAR', 'MONTH', 'DAY', 'HOUR',\n",
              "       'MINUTE'],\n",
              "      dtype='object')"
            ]
          },
          "metadata": {
            "tags": []
          },
          "execution_count": 364
        }
      ]
    },
    {
      "cell_type": "code",
      "metadata": {
        "colab": {
          "base_uri": "https://localhost:8080/",
          "height": 411
        },
        "id": "mW-AqhhQyYQ6",
        "outputId": "3b7e562e-f93d-4c02-d1f0-50435dbc89e8"
      },
      "source": [
        "autolib.head()"
      ],
      "execution_count": 365,
      "outputs": [
        {
          "output_type": "execute_result",
          "data": {
            "text/html": [
              "<div>\n",
              "<style scoped>\n",
              "    .dataframe tbody tr th:only-of-type {\n",
              "        vertical-align: middle;\n",
              "    }\n",
              "\n",
              "    .dataframe tbody tr th {\n",
              "        vertical-align: top;\n",
              "    }\n",
              "\n",
              "    .dataframe thead th {\n",
              "        text-align: right;\n",
              "    }\n",
              "</style>\n",
              "<table border=\"1\" class=\"dataframe\">\n",
              "  <thead>\n",
              "    <tr style=\"text-align: right;\">\n",
              "      <th></th>\n",
              "      <th>ADDRESS</th>\n",
              "      <th>CARS</th>\n",
              "      <th>BLUECAR_COUNTER</th>\n",
              "      <th>UTILIB_COUNTER</th>\n",
              "      <th>UTILIB_1_4_COUNTER</th>\n",
              "      <th>CHARGE_SLOTS</th>\n",
              "      <th>CHARGING_STATUS</th>\n",
              "      <th>CITY</th>\n",
              "      <th>DISPLAYED_COMMENT</th>\n",
              "      <th>ID</th>\n",
              "      <th>KIND</th>\n",
              "      <th>GEO_POINT</th>\n",
              "      <th>POSTAL_CODE</th>\n",
              "      <th>PUBLIC_NAME</th>\n",
              "      <th>RENTAL_STATUS</th>\n",
              "      <th>SCHEDULED_AT</th>\n",
              "      <th>SLOTS</th>\n",
              "      <th>STATION_TYPE</th>\n",
              "      <th>STATUS</th>\n",
              "      <th>SUBSCRIPTION_STATUS</th>\n",
              "      <th>YEAR</th>\n",
              "      <th>MONTH</th>\n",
              "      <th>DAY</th>\n",
              "      <th>HOUR</th>\n",
              "      <th>MINUTE</th>\n",
              "    </tr>\n",
              "  </thead>\n",
              "  <tbody>\n",
              "    <tr>\n",
              "      <th>0</th>\n",
              "      <td>2 Avenue de Suffren</td>\n",
              "      <td>0</td>\n",
              "      <td>0</td>\n",
              "      <td>0</td>\n",
              "      <td>0</td>\n",
              "      <td>0</td>\n",
              "      <td>nonexistent</td>\n",
              "      <td>Paris</td>\n",
              "      <td>NaN</td>\n",
              "      <td>paris-suffren-2</td>\n",
              "      <td>STATION</td>\n",
              "      <td>48.857, 2.2917</td>\n",
              "      <td>75015</td>\n",
              "      <td>Paris/Suffren/2</td>\n",
              "      <td>operational</td>\n",
              "      <td>NaN</td>\n",
              "      <td>2</td>\n",
              "      <td>station</td>\n",
              "      <td>ok</td>\n",
              "      <td>nonexistent</td>\n",
              "      <td>2018</td>\n",
              "      <td>4</td>\n",
              "      <td>8</td>\n",
              "      <td>11</td>\n",
              "      <td>43</td>\n",
              "    </tr>\n",
              "    <tr>\n",
              "      <th>1</th>\n",
              "      <td>145 Rue Raymond Losserand</td>\n",
              "      <td>6</td>\n",
              "      <td>6</td>\n",
              "      <td>0</td>\n",
              "      <td>0</td>\n",
              "      <td>0</td>\n",
              "      <td>operational</td>\n",
              "      <td>Paris</td>\n",
              "      <td>NaN</td>\n",
              "      <td>paris-raymondlosserand-145</td>\n",
              "      <td>STATION</td>\n",
              "      <td>48.83126, 2.313088</td>\n",
              "      <td>75014</td>\n",
              "      <td>Paris/Raymond Losserand/145</td>\n",
              "      <td>operational</td>\n",
              "      <td>NaN</td>\n",
              "      <td>0</td>\n",
              "      <td>station</td>\n",
              "      <td>ok</td>\n",
              "      <td>nonexistent</td>\n",
              "      <td>2018</td>\n",
              "      <td>4</td>\n",
              "      <td>6</td>\n",
              "      <td>7</td>\n",
              "      <td>24</td>\n",
              "    </tr>\n",
              "    <tr>\n",
              "      <th>2</th>\n",
              "      <td>2 Avenue John Fitzgerald Kennedy</td>\n",
              "      <td>3</td>\n",
              "      <td>3</td>\n",
              "      <td>0</td>\n",
              "      <td>2</td>\n",
              "      <td>0</td>\n",
              "      <td>operational</td>\n",
              "      <td>Le Bourget</td>\n",
              "      <td>NaN</td>\n",
              "      <td>lebourget-johnfitzgeraldkennedy-2</td>\n",
              "      <td>STATION</td>\n",
              "      <td>48.938103, 2.4286035</td>\n",
              "      <td>93350</td>\n",
              "      <td>Le Bourget/John Fitzgerald Kennedy/2</td>\n",
              "      <td>operational</td>\n",
              "      <td>NaN</td>\n",
              "      <td>1</td>\n",
              "      <td>station</td>\n",
              "      <td>ok</td>\n",
              "      <td>nonexistent</td>\n",
              "      <td>2018</td>\n",
              "      <td>4</td>\n",
              "      <td>3</td>\n",
              "      <td>20</td>\n",
              "      <td>14</td>\n",
              "    </tr>\n",
              "    <tr>\n",
              "      <th>3</th>\n",
              "      <td>51 Rue EugÃ¨ne OudinÃ©</td>\n",
              "      <td>3</td>\n",
              "      <td>3</td>\n",
              "      <td>1</td>\n",
              "      <td>0</td>\n",
              "      <td>1</td>\n",
              "      <td>operational</td>\n",
              "      <td>Paris</td>\n",
              "      <td>NaN</td>\n",
              "      <td>paris-eugeneoudine-51</td>\n",
              "      <td>STATION</td>\n",
              "      <td>48.8250327, 2.3725162</td>\n",
              "      <td>75013</td>\n",
              "      <td>Paris/EugÃ¨ne OudinÃ©/51</td>\n",
              "      <td>operational</td>\n",
              "      <td>NaN</td>\n",
              "      <td>2</td>\n",
              "      <td>station</td>\n",
              "      <td>ok</td>\n",
              "      <td>nonexistent</td>\n",
              "      <td>2018</td>\n",
              "      <td>4</td>\n",
              "      <td>4</td>\n",
              "      <td>4</td>\n",
              "      <td>37</td>\n",
              "    </tr>\n",
              "    <tr>\n",
              "      <th>4</th>\n",
              "      <td>6 avenue de la Porte de Champerret</td>\n",
              "      <td>3</td>\n",
              "      <td>3</td>\n",
              "      <td>0</td>\n",
              "      <td>0</td>\n",
              "      <td>0</td>\n",
              "      <td>nonexistent</td>\n",
              "      <td>Paris</td>\n",
              "      <td>NaN</td>\n",
              "      <td>paris-portedechamperret-6</td>\n",
              "      <td>PARKING</td>\n",
              "      <td>48.8862632, 2.2874511</td>\n",
              "      <td>75017</td>\n",
              "      <td>Paris/Porte de Champerret/6</td>\n",
              "      <td>operational</td>\n",
              "      <td>NaN</td>\n",
              "      <td>3</td>\n",
              "      <td>station</td>\n",
              "      <td>ok</td>\n",
              "      <td>nonexistent</td>\n",
              "      <td>2018</td>\n",
              "      <td>4</td>\n",
              "      <td>8</td>\n",
              "      <td>17</td>\n",
              "      <td>23</td>\n",
              "    </tr>\n",
              "  </tbody>\n",
              "</table>\n",
              "</div>"
            ],
            "text/plain": [
              "                              ADDRESS  CARS  BLUECAR_COUNTER  ...  DAY  HOUR  MINUTE\n",
              "0                 2 Avenue de Suffren     0                0  ...    8    11      43\n",
              "1           145 Rue Raymond Losserand     6                6  ...    6     7      24\n",
              "2    2 Avenue John Fitzgerald Kennedy     3                3  ...    3    20      14\n",
              "3              51 Rue EugÃ¨ne OudinÃ©     3                3  ...    4     4      37\n",
              "4  6 avenue de la Porte de Champerret     3                3  ...    8    17      23\n",
              "\n",
              "[5 rows x 25 columns]"
            ]
          },
          "metadata": {
            "tags": []
          },
          "execution_count": 365
        }
      ]
    },
    {
      "cell_type": "markdown",
      "metadata": {
        "id": "oNEI0TehRNyW"
      },
      "source": [
        "**2.2 Data Selection**\r\n",
        "\r\n",
        "Research Question: Identify the most popular hour of the day for picking up a shared electric car (Bluecar) in the city of Paris over the month of April 2018\r\n",
        "\r\n",
        "\r\n"
      ]
    },
    {
      "cell_type": "markdown",
      "metadata": {
        "id": "8odNfb_yVUH1"
      },
      "source": [
        "**2.2.1 Validity**"
      ]
    },
    {
      "cell_type": "code",
      "metadata": {
        "id": "9FfV-mtORcBy"
      },
      "source": [
        "#Before commencing any data analysis we have to prepare and select the most relevant data for our study. \r\n",
        "#This involves ensuring the columns we maintain in our dataset are useful in the question begin investigated. \r\n",
        "#Equally, the rows should be relevant to the study. \r\n",
        "#Lets explore our individual columns to see what values they contain"
      ],
      "execution_count": 366,
      "outputs": []
    },
    {
      "cell_type": "code",
      "metadata": {
        "colab": {
          "base_uri": "https://localhost:8080/"
        },
        "id": "5Q0CvIULezoi",
        "outputId": "3708bc97-15e2-4787-ec87-383eeda0cdf0"
      },
      "source": [
        "autolib[\"DISPLAYED_COMMENT\"].unique()"
      ],
      "execution_count": 424,
      "outputs": [
        {
          "output_type": "execute_result",
          "data": {
            "text/plain": [
              "array([nan, 'Station en parking (niv -1), accÃ¨s 37 rue Leblanc',\n",
              "       'Station en parking (niv 0), accÃ¨s 26 villa Croix Nivert',\n",
              "       'Station en parking (niv -2), accÃ¨s 4 av. Foch',\n",
              "       \"Borne d'abonnement en sous-sol (niv -1), accÃ¨s 4 rue Lobau\",\n",
              "       'Station en parking (niv -1), accÃ¨s rue Wilson',\n",
              "       'Station en parking (niv -1), accÃ¨s Place Georges Pompidou',\n",
              "       'Station en parking (niv -3), accÃ¨s 32 rue dâ\\x80\\x99Alsace',\n",
              "       'Station en parking (niv -2), accÃ¨s 2 avenue Gabriel',\n",
              "       'Station en parking (niv -1), accÃ¨s av. de Versailles',\n",
              "       'Station en parking (niv -1), accÃ¨s rue Abel Gance',\n",
              "       'Station en parking (niv -1), accÃ¨s 4 av. des Ternes',\n",
              "       'Station en parking (niv -1), Station B (sur la droite)',\n",
              "       'Station en parking',\n",
              "       'Station en parking (niv -2), accÃ¨s 125 bvd du Montparnasse',\n",
              "       'Station en parking (niv -1), Station A (sur la gauche)',\n",
              "       'Station en parking (niv -1), accÃ¨s 8 rue Louise Michel',\n",
              "       'Station en parking (niv -1), accÃ¨s 26 bvd Gouvion Saint-Cyr',\n",
              "       'Station en parking (niv -1), accÃ¨s rue Marjolin',\n",
              "       'Station en parking (niv -1), accÃ¨s 141 rue Lecourbe',\n",
              "       'Station en parking (niv -1), accÃ¨s 37 rue Wilson',\n",
              "       'Station en parking (niv -2), accÃ¨s 155 rue de Rennes',\n",
              "       'Station en parking (niv -1), accÃ¨s av. gÃ©n Sarrail',\n",
              "       'Station en parking (niv -1), accÃ¨s 33 rue Ernest Cognacq',\n",
              "       'Station en parking (niv -1), accÃ¨s 80 rue Wilson',\n",
              "       \"Station en parking (niv -1), accÃ¨s 29 quai d'Austerlitz\"],\n",
              "      dtype=object)"
            ]
          },
          "metadata": {
            "tags": []
          },
          "execution_count": 424
        }
      ]
    },
    {
      "cell_type": "code",
      "metadata": {
        "colab": {
          "base_uri": "https://localhost:8080/"
        },
        "id": "61MBAsKxfSua",
        "outputId": "e7f06474-9f6d-4a84-f441-8b8f93c3d9f2"
      },
      "source": [
        "autolib[\"KIND\"].unique()\r\n",
        "#We do not need this column for purposes of addressing the research question."
      ],
      "execution_count": 289,
      "outputs": [
        {
          "output_type": "execute_result",
          "data": {
            "text/plain": [
              "array(['STATION', 'PARKING', 'SPACE', 'CENTER'], dtype=object)"
            ]
          },
          "metadata": {
            "tags": []
          },
          "execution_count": 289
        }
      ]
    },
    {
      "cell_type": "code",
      "metadata": {
        "colab": {
          "base_uri": "https://localhost:8080/"
        },
        "id": "AHYiU-eDfbxJ",
        "outputId": "1d27be9e-c8de-44e9-8562-a4acb3dee79b"
      },
      "source": [
        "autolib[\"RENTAL_STATUS\"].unique()\r\n",
        "#For purpose of investigating the research question, we will only concern ourselves with stations that have an 'operational' rental_status\r\n",
        "#Broken, future and non-existent stations will need to be deleted from the dataset"
      ],
      "execution_count": 20,
      "outputs": [
        {
          "output_type": "execute_result",
          "data": {
            "text/plain": [
              "array(['operational', 'broken', 'future', 'nonexistent'], dtype=object)"
            ]
          },
          "metadata": {
            "tags": []
          },
          "execution_count": 20
        }
      ]
    },
    {
      "cell_type": "code",
      "metadata": {
        "colab": {
          "base_uri": "https://localhost:8080/"
        },
        "id": "TZR_itlTgA-K",
        "outputId": "e92cb693-8726-4cea-bf7d-29038e25f472"
      },
      "source": [
        "autolib['SCHEDULED_AT'].unique()\r\n",
        "#Relates to the planned opening of stations with a future status. We do not need this in our analysis."
      ],
      "execution_count": 21,
      "outputs": [
        {
          "output_type": "execute_result",
          "data": {
            "text/plain": [
              "array([nan, '2016-07-27T15:32:21', '2016-07-05T13:10:09',\n",
              "       '2015-09-29T13:58:29', '2016-04-26T14:28:01',\n",
              "       '2012-09-17T08:57:28', '2016-01-06T10:35:38',\n",
              "       '2018-01-03T10:52:00', '2016-07-27T15:32:22'], dtype=object)"
            ]
          },
          "metadata": {
            "tags": []
          },
          "execution_count": 21
        }
      ]
    },
    {
      "cell_type": "code",
      "metadata": {
        "colab": {
          "base_uri": "https://localhost:8080/"
        },
        "id": "Vu0Td6wUhH1O",
        "outputId": "38874be2-74a8-4c0f-9067-7b89b1748d50"
      },
      "source": [
        "autolib['STATION_TYPE'].unique()"
      ],
      "execution_count": null,
      "outputs": [
        {
          "output_type": "execute_result",
          "data": {
            "text/plain": [
              "array(['station', 'full_station', 'subs_center'], dtype=object)"
            ]
          },
          "metadata": {
            "tags": []
          },
          "execution_count": 25
        }
      ]
    },
    {
      "cell_type": "code",
      "metadata": {
        "colab": {
          "base_uri": "https://localhost:8080/"
        },
        "id": "_sKFKvWXhbpy",
        "outputId": "1928b744-20c6-442c-c6f7-52241cf6d860"
      },
      "source": [
        "autolib['SLOTS'].unique()\r\n",
        "\r\n",
        "#We do not to know the number of parking slots available for purposes of this study"
      ],
      "execution_count": 47,
      "outputs": [
        {
          "output_type": "execute_result",
          "data": {
            "text/plain": [
              "array([2, 0, 1, 3, 4, 6, 5, 7])"
            ]
          },
          "metadata": {
            "tags": []
          },
          "execution_count": 47
        }
      ]
    },
    {
      "cell_type": "code",
      "metadata": {
        "colab": {
          "base_uri": "https://localhost:8080/"
        },
        "id": "rOc_hT2Jh30h",
        "outputId": "6716ae75-a37e-47c5-9855-34afe8192f53"
      },
      "source": [
        "autolib['PUBLIC_NAME'].unique()"
      ],
      "execution_count": 23,
      "outputs": [
        {
          "output_type": "execute_result",
          "data": {
            "text/plain": [
              "array(['Paris/Suffren/2', 'Paris/Raymond Losserand/145',\n",
              "       'Le Bourget/John Fitzgerald Kennedy/2', ...,\n",
              "       'Paris/VercingÃ©torix/106', 'Nanterre/National/134',\n",
              "       'Paris/SÃ©rurier/54'], dtype=object)"
            ]
          },
          "metadata": {
            "tags": []
          },
          "execution_count": 23
        }
      ]
    },
    {
      "cell_type": "code",
      "metadata": {
        "colab": {
          "base_uri": "https://localhost:8080/"
        },
        "id": "VjevlD6giQlp",
        "outputId": "22d6a830-7790-4515-ee8c-1dff849a46d0"
      },
      "source": [
        "autolib['SUBSCRIPTION_STATUS'].unique()\r\n",
        "#We certainly do not need to know the subscription status of a station for this study"
      ],
      "execution_count": 168,
      "outputs": [
        {
          "output_type": "execute_result",
          "data": {
            "text/plain": [
              "array(['nonexistent', 'operational', 'broken'], dtype=object)"
            ]
          },
          "metadata": {
            "tags": []
          },
          "execution_count": 168
        }
      ]
    },
    {
      "cell_type": "markdown",
      "metadata": {
        "id": "2BxSQ8o2itOx"
      },
      "source": [
        "Dropping Irrelevant Rows and Columns"
      ]
    },
    {
      "cell_type": "code",
      "metadata": {
        "id": "56bJaY6Ni5P4"
      },
      "source": [
        "#From the above exploration of our dataset, it is evident we will need to only concern ourselves with operational stations. \r\n",
        "#As such we shall delete any other station that is not operational\r\n",
        "#We do that using Conditions and Rowindex\r\n",
        "\r\n",
        "#autolib[autolib.RENTAL_STATUS != \"operational\"].index\r\n",
        "\r\n",
        "#Drop rows that don't meet this condition and let's call it autolib_new\r\n",
        "autolib_new = autolib.drop(autolib[(autolib.RENTAL_STATUS != \"operational\")].index)\r\n",
        "\r\n",
        "\r\n",
        "\r\n"
      ],
      "execution_count": 425,
      "outputs": []
    },
    {
      "cell_type": "code",
      "metadata": {
        "id": "tvD0QsEVS4_7"
      },
      "source": [
        "#Dropping irrelevant columns from autolib_new\r\n",
        "autolib_new.drop([\"DISPLAYED_COMMENT\", \"ID\", \"KIND\", \"GEO_POINT\",\"SLOTS\",\"CHARGE_SLOTS\",\"SCHEDULED_AT\",\"STATION_TYPE\",\"CHARGING_STATUS\",\"STATUS\",\"SUBSCRIPTION_STATUS\"], axis=1, inplace= True)\r\n"
      ],
      "execution_count": 426,
      "outputs": []
    },
    {
      "cell_type": "code",
      "metadata": {
        "colab": {
          "base_uri": "https://localhost:8080/",
          "height": 238
        },
        "id": "t3rby-GIZPr6",
        "outputId": "3baae3cc-9855-46b0-d1a4-406aeed491bd"
      },
      "source": [
        "#DIsplay the new Dataset\r\n",
        "autolib_new.head()"
      ],
      "execution_count": 427,
      "outputs": [
        {
          "output_type": "execute_result",
          "data": {
            "text/html": [
              "<div>\n",
              "<style scoped>\n",
              "    .dataframe tbody tr th:only-of-type {\n",
              "        vertical-align: middle;\n",
              "    }\n",
              "\n",
              "    .dataframe tbody tr th {\n",
              "        vertical-align: top;\n",
              "    }\n",
              "\n",
              "    .dataframe thead th {\n",
              "        text-align: right;\n",
              "    }\n",
              "</style>\n",
              "<table border=\"1\" class=\"dataframe\">\n",
              "  <thead>\n",
              "    <tr style=\"text-align: right;\">\n",
              "      <th></th>\n",
              "      <th>ADDRESS</th>\n",
              "      <th>CARS</th>\n",
              "      <th>BLUECAR_COUNTER</th>\n",
              "      <th>UTILIB_COUNTER</th>\n",
              "      <th>UTILIB_1_4_COUNTER</th>\n",
              "      <th>CITY</th>\n",
              "      <th>POSTAL_CODE</th>\n",
              "      <th>PUBLIC_NAME</th>\n",
              "      <th>RENTAL_STATUS</th>\n",
              "      <th>YEAR</th>\n",
              "      <th>MONTH</th>\n",
              "      <th>DAY</th>\n",
              "      <th>HOUR</th>\n",
              "      <th>MINUTE</th>\n",
              "    </tr>\n",
              "  </thead>\n",
              "  <tbody>\n",
              "    <tr>\n",
              "      <th>0</th>\n",
              "      <td>2 Avenue de Suffren</td>\n",
              "      <td>0</td>\n",
              "      <td>0</td>\n",
              "      <td>0</td>\n",
              "      <td>0</td>\n",
              "      <td>Paris</td>\n",
              "      <td>75015</td>\n",
              "      <td>Paris/Suffren/2</td>\n",
              "      <td>operational</td>\n",
              "      <td>2018</td>\n",
              "      <td>4</td>\n",
              "      <td>8</td>\n",
              "      <td>11</td>\n",
              "      <td>43</td>\n",
              "    </tr>\n",
              "    <tr>\n",
              "      <th>1</th>\n",
              "      <td>145 Rue Raymond Losserand</td>\n",
              "      <td>6</td>\n",
              "      <td>6</td>\n",
              "      <td>0</td>\n",
              "      <td>0</td>\n",
              "      <td>Paris</td>\n",
              "      <td>75014</td>\n",
              "      <td>Paris/Raymond Losserand/145</td>\n",
              "      <td>operational</td>\n",
              "      <td>2018</td>\n",
              "      <td>4</td>\n",
              "      <td>6</td>\n",
              "      <td>7</td>\n",
              "      <td>24</td>\n",
              "    </tr>\n",
              "    <tr>\n",
              "      <th>2</th>\n",
              "      <td>2 Avenue John Fitzgerald Kennedy</td>\n",
              "      <td>3</td>\n",
              "      <td>3</td>\n",
              "      <td>0</td>\n",
              "      <td>2</td>\n",
              "      <td>Le Bourget</td>\n",
              "      <td>93350</td>\n",
              "      <td>Le Bourget/John Fitzgerald Kennedy/2</td>\n",
              "      <td>operational</td>\n",
              "      <td>2018</td>\n",
              "      <td>4</td>\n",
              "      <td>3</td>\n",
              "      <td>20</td>\n",
              "      <td>14</td>\n",
              "    </tr>\n",
              "    <tr>\n",
              "      <th>3</th>\n",
              "      <td>51 Rue EugÃ¨ne OudinÃ©</td>\n",
              "      <td>3</td>\n",
              "      <td>3</td>\n",
              "      <td>1</td>\n",
              "      <td>0</td>\n",
              "      <td>Paris</td>\n",
              "      <td>75013</td>\n",
              "      <td>Paris/EugÃ¨ne OudinÃ©/51</td>\n",
              "      <td>operational</td>\n",
              "      <td>2018</td>\n",
              "      <td>4</td>\n",
              "      <td>4</td>\n",
              "      <td>4</td>\n",
              "      <td>37</td>\n",
              "    </tr>\n",
              "    <tr>\n",
              "      <th>4</th>\n",
              "      <td>6 avenue de la Porte de Champerret</td>\n",
              "      <td>3</td>\n",
              "      <td>3</td>\n",
              "      <td>0</td>\n",
              "      <td>0</td>\n",
              "      <td>Paris</td>\n",
              "      <td>75017</td>\n",
              "      <td>Paris/Porte de Champerret/6</td>\n",
              "      <td>operational</td>\n",
              "      <td>2018</td>\n",
              "      <td>4</td>\n",
              "      <td>8</td>\n",
              "      <td>17</td>\n",
              "      <td>23</td>\n",
              "    </tr>\n",
              "  </tbody>\n",
              "</table>\n",
              "</div>"
            ],
            "text/plain": [
              "                              ADDRESS  CARS  BLUECAR_COUNTER  ...  DAY  HOUR MINUTE\n",
              "0                 2 Avenue de Suffren     0                0  ...    8    11     43\n",
              "1           145 Rue Raymond Losserand     6                6  ...    6     7     24\n",
              "2    2 Avenue John Fitzgerald Kennedy     3                3  ...    3    20     14\n",
              "3              51 Rue EugÃ¨ne OudinÃ©     3                3  ...    4     4     37\n",
              "4  6 avenue de la Porte de Champerret     3                3  ...    8    17     23\n",
              "\n",
              "[5 rows x 14 columns]"
            ]
          },
          "metadata": {
            "tags": []
          },
          "execution_count": 427
        }
      ]
    },
    {
      "cell_type": "code",
      "metadata": {
        "colab": {
          "base_uri": "https://localhost:8080/"
        },
        "id": "HCN5QS0kvgiV",
        "outputId": "e9d8205d-9706-4933-94ff-0cd9f0f04ac8"
      },
      "source": [
        "autolib_new.shape"
      ],
      "execution_count": 429,
      "outputs": [
        {
          "output_type": "execute_result",
          "data": {
            "text/plain": [
              "(4618, 14)"
            ]
          },
          "metadata": {
            "tags": []
          },
          "execution_count": 429
        }
      ]
    },
    {
      "cell_type": "code",
      "metadata": {
        "colab": {
          "base_uri": "https://localhost:8080/",
          "height": 49
        },
        "id": "0qZ43xsN1ghd",
        "outputId": "46830162-fc34-4919-f23f-d1bcaf5b5ac2"
      },
      "source": [
        "autolib_new.melt(id_vars=[\"PUBLIC_NAME\",\"ADDRESS\",\t\"CARS\",\t\"BLUECAR_COUNTER\",\t\"UTILIB_COUNTER\",\t\"UTILIB_1_4_COUNTER\",\t\t\"CITY\",\t\"POSTAL_CODE\",\t\"RENTAL_STATUS\",\t\"YEAR\",\t\"MONTH\",\t\"DAY\",\t\"HOUR\",\t\"MINUTE\"])"
      ],
      "execution_count": 435,
      "outputs": [
        {
          "output_type": "execute_result",
          "data": {
            "text/html": [
              "<div>\n",
              "<style scoped>\n",
              "    .dataframe tbody tr th:only-of-type {\n",
              "        vertical-align: middle;\n",
              "    }\n",
              "\n",
              "    .dataframe tbody tr th {\n",
              "        vertical-align: top;\n",
              "    }\n",
              "\n",
              "    .dataframe thead th {\n",
              "        text-align: right;\n",
              "    }\n",
              "</style>\n",
              "<table border=\"1\" class=\"dataframe\">\n",
              "  <thead>\n",
              "    <tr style=\"text-align: right;\">\n",
              "      <th></th>\n",
              "      <th>PUBLIC_NAME</th>\n",
              "      <th>ADDRESS</th>\n",
              "      <th>CARS</th>\n",
              "      <th>BLUECAR_COUNTER</th>\n",
              "      <th>UTILIB_COUNTER</th>\n",
              "      <th>UTILIB_1_4_COUNTER</th>\n",
              "      <th>CITY</th>\n",
              "      <th>POSTAL_CODE</th>\n",
              "      <th>RENTAL_STATUS</th>\n",
              "      <th>YEAR</th>\n",
              "      <th>MONTH</th>\n",
              "      <th>DAY</th>\n",
              "      <th>HOUR</th>\n",
              "      <th>MINUTE</th>\n",
              "      <th>variable</th>\n",
              "      <th>value</th>\n",
              "    </tr>\n",
              "  </thead>\n",
              "  <tbody>\n",
              "  </tbody>\n",
              "</table>\n",
              "</div>"
            ],
            "text/plain": [
              "Empty DataFrame\n",
              "Columns: [PUBLIC_NAME, ADDRESS, CARS, BLUECAR_COUNTER, UTILIB_COUNTER, UTILIB_1_4_COUNTER, CITY, POSTAL_CODE, RENTAL_STATUS, YEAR, MONTH, DAY, HOUR, MINUTE, variable, value]\n",
              "Index: []"
            ]
          },
          "metadata": {
            "tags": []
          },
          "execution_count": 435
        }
      ]
    },
    {
      "cell_type": "markdown",
      "metadata": {
        "id": "UP2RV3P4_qEc"
      },
      "source": [
        "Removing Non-Alphanumeric characters in the dataset"
      ]
    },
    {
      "cell_type": "code",
      "metadata": {
        "id": "xbHTP2xqX8CF"
      },
      "source": [
        "#The non-alphanumeric values are in the Address,Public Name and City Columns"
      ],
      "execution_count": 436,
      "outputs": []
    },
    {
      "cell_type": "code",
      "metadata": {
        "id": "iqNqs0fvSbro"
      },
      "source": [
        "#Removing the non-alpha-numeric © from the dataset\r\n",
        "#autolib_new['CITY'].where(~(autolib_new.CITY == '©'), other= '', inplace=True)\r\n",
        "#autolib_new['ADDRESS'].where(~(autolib_new.ADDRESS == '©'), other= '', inplace=True)\r\n",
        "\r\n",
        "autolib_new = autolib_new.replace({'©':\"\"}, regex=True)"
      ],
      "execution_count": 437,
      "outputs": []
    },
    {
      "cell_type": "code",
      "metadata": {
        "colab": {
          "base_uri": "https://localhost:8080/",
          "height": 173
        },
        "id": "uwLAG_noUV0-",
        "outputId": "f8cffaad-cc9b-46e0-bdf8-556447f16fb3"
      },
      "source": [
        "autolib_new.head(4)"
      ],
      "execution_count": 438,
      "outputs": [
        {
          "output_type": "execute_result",
          "data": {
            "text/html": [
              "<div>\n",
              "<style scoped>\n",
              "    .dataframe tbody tr th:only-of-type {\n",
              "        vertical-align: middle;\n",
              "    }\n",
              "\n",
              "    .dataframe tbody tr th {\n",
              "        vertical-align: top;\n",
              "    }\n",
              "\n",
              "    .dataframe thead th {\n",
              "        text-align: right;\n",
              "    }\n",
              "</style>\n",
              "<table border=\"1\" class=\"dataframe\">\n",
              "  <thead>\n",
              "    <tr style=\"text-align: right;\">\n",
              "      <th></th>\n",
              "      <th>ADDRESS</th>\n",
              "      <th>CARS</th>\n",
              "      <th>BLUECAR_COUNTER</th>\n",
              "      <th>UTILIB_COUNTER</th>\n",
              "      <th>UTILIB_1_4_COUNTER</th>\n",
              "      <th>CITY</th>\n",
              "      <th>POSTAL_CODE</th>\n",
              "      <th>PUBLIC_NAME</th>\n",
              "      <th>RENTAL_STATUS</th>\n",
              "      <th>YEAR</th>\n",
              "      <th>MONTH</th>\n",
              "      <th>DAY</th>\n",
              "      <th>HOUR</th>\n",
              "      <th>MINUTE</th>\n",
              "    </tr>\n",
              "  </thead>\n",
              "  <tbody>\n",
              "    <tr>\n",
              "      <th>0</th>\n",
              "      <td>2 Avenue de Suffren</td>\n",
              "      <td>0</td>\n",
              "      <td>0</td>\n",
              "      <td>0</td>\n",
              "      <td>0</td>\n",
              "      <td>Paris</td>\n",
              "      <td>75015</td>\n",
              "      <td>Paris/Suffren/2</td>\n",
              "      <td>operational</td>\n",
              "      <td>2018</td>\n",
              "      <td>4</td>\n",
              "      <td>8</td>\n",
              "      <td>11</td>\n",
              "      <td>43</td>\n",
              "    </tr>\n",
              "    <tr>\n",
              "      <th>1</th>\n",
              "      <td>145 Rue Raymond Losserand</td>\n",
              "      <td>6</td>\n",
              "      <td>6</td>\n",
              "      <td>0</td>\n",
              "      <td>0</td>\n",
              "      <td>Paris</td>\n",
              "      <td>75014</td>\n",
              "      <td>Paris/Raymond Losserand/145</td>\n",
              "      <td>operational</td>\n",
              "      <td>2018</td>\n",
              "      <td>4</td>\n",
              "      <td>6</td>\n",
              "      <td>7</td>\n",
              "      <td>24</td>\n",
              "    </tr>\n",
              "    <tr>\n",
              "      <th>2</th>\n",
              "      <td>2 Avenue John Fitzgerald Kennedy</td>\n",
              "      <td>3</td>\n",
              "      <td>3</td>\n",
              "      <td>0</td>\n",
              "      <td>2</td>\n",
              "      <td>Le Bourget</td>\n",
              "      <td>93350</td>\n",
              "      <td>Le Bourget/John Fitzgerald Kennedy/2</td>\n",
              "      <td>operational</td>\n",
              "      <td>2018</td>\n",
              "      <td>4</td>\n",
              "      <td>3</td>\n",
              "      <td>20</td>\n",
              "      <td>14</td>\n",
              "    </tr>\n",
              "    <tr>\n",
              "      <th>3</th>\n",
              "      <td>51 Rue EugÃ¨ne OudinÃ</td>\n",
              "      <td>3</td>\n",
              "      <td>3</td>\n",
              "      <td>1</td>\n",
              "      <td>0</td>\n",
              "      <td>Paris</td>\n",
              "      <td>75013</td>\n",
              "      <td>Paris/EugÃ¨ne OudinÃ/51</td>\n",
              "      <td>operational</td>\n",
              "      <td>2018</td>\n",
              "      <td>4</td>\n",
              "      <td>4</td>\n",
              "      <td>4</td>\n",
              "      <td>37</td>\n",
              "    </tr>\n",
              "  </tbody>\n",
              "</table>\n",
              "</div>"
            ],
            "text/plain": [
              "                            ADDRESS  CARS  BLUECAR_COUNTER  ...  DAY  HOUR MINUTE\n",
              "0               2 Avenue de Suffren     0                0  ...    8    11     43\n",
              "1         145 Rue Raymond Losserand     6                6  ...    6     7     24\n",
              "2  2 Avenue John Fitzgerald Kennedy     3                3  ...    3    20     14\n",
              "3             51 Rue EugÃ¨ne OudinÃ     3                3  ...    4     4     37\n",
              "\n",
              "[4 rows x 14 columns]"
            ]
          },
          "metadata": {
            "tags": []
          },
          "execution_count": 438
        }
      ]
    },
    {
      "cell_type": "markdown",
      "metadata": {
        "id": "9Vo-vPdDaPgV"
      },
      "source": [
        "**2.2.2 Accuracy**"
      ]
    },
    {
      "cell_type": "markdown",
      "metadata": {
        "id": "uYcuscnverKk"
      },
      "source": [
        "Confirming the entries in the column Cars, Bluecar counter, Utilib Counter, Utilib 1.4 Counter to ensure they are what we expect"
      ]
    },
    {
      "cell_type": "code",
      "metadata": {
        "colab": {
          "base_uri": "https://localhost:8080/"
        },
        "id": "vViZPqfiZwbb",
        "outputId": "7b4d1a5f-7b31-416c-b353-b64dbd70a029"
      },
      "source": [
        "#From the Dalber Dataset Description, we know the following:\r\n",
        "#Cars [0-7]\r\n",
        "#Bluecar counter [0-7]\r\n",
        "#Utilib Counter [0-4]\r\n",
        "#Utilib 1.4 Counter [0-5]\r\n",
        "\r\n",
        "#We therefore check that this is the case in our columns\r\n",
        "\r\n",
        "#Checking the Cars column\r\n",
        "autolib_new['CARS'].unique()"
      ],
      "execution_count": 439,
      "outputs": [
        {
          "output_type": "execute_result",
          "data": {
            "text/plain": [
              "array([0, 6, 3, 1, 5, 4, 2, 7])"
            ]
          },
          "metadata": {
            "tags": []
          },
          "execution_count": 439
        }
      ]
    },
    {
      "cell_type": "code",
      "metadata": {
        "id": "KAxI7h1lCpe_",
        "colab": {
          "base_uri": "https://localhost:8080/"
        },
        "outputId": "816504c5-a4ed-47fe-e3a6-a8a92167b28e"
      },
      "source": [
        "#Checking the Bluecar Counter\r\n",
        "autolib_new['BLUECAR_COUNTER'].unique()\r\n"
      ],
      "execution_count": 401,
      "outputs": [
        {
          "output_type": "execute_result",
          "data": {
            "text/plain": [
              "array([0, 6, 3, 1, 5, 4, 2, 7])"
            ]
          },
          "metadata": {
            "tags": []
          },
          "execution_count": 401
        }
      ]
    },
    {
      "cell_type": "code",
      "metadata": {
        "colab": {
          "base_uri": "https://localhost:8080/"
        },
        "id": "DfGDZmUtdxDF",
        "outputId": "9f336c3d-ffb5-40da-f877-c1a5563ce8bf"
      },
      "source": [
        "#Checking the Utilib Counter\r\n",
        "autolib_new['UTILIB_COUNTER'].unique()"
      ],
      "execution_count": 89,
      "outputs": [
        {
          "output_type": "execute_result",
          "data": {
            "text/plain": [
              "array([0, 1, 2])"
            ]
          },
          "metadata": {
            "tags": []
          },
          "execution_count": 89
        }
      ]
    },
    {
      "cell_type": "code",
      "metadata": {
        "colab": {
          "base_uri": "https://localhost:8080/"
        },
        "id": "YYpeLNWvcma-",
        "outputId": "8b37f45e-1558-4cd5-a989-249a4219b842"
      },
      "source": [
        "#checking the Utilib 1.4 Counter\r\n",
        "autolib_new['UTILIB_1_4_COUNTER'].unique()"
      ],
      "execution_count": 88,
      "outputs": [
        {
          "output_type": "execute_result",
          "data": {
            "text/plain": [
              "array([0, 2, 1, 3])"
            ]
          },
          "metadata": {
            "tags": []
          },
          "execution_count": 88
        }
      ]
    },
    {
      "cell_type": "markdown",
      "metadata": {
        "id": "HmIFI3VkfIBM"
      },
      "source": [
        "Confirming that we are working with the correct Time Period"
      ]
    },
    {
      "cell_type": "code",
      "metadata": {
        "colab": {
          "base_uri": "https://localhost:8080/"
        },
        "id": "e3SdxlAbejNF",
        "outputId": "dab5a882-d68d-4af9-8835-2595af9a7a6b"
      },
      "source": [
        "#We know that the data wwas collected for 9 days in 2018\r\n",
        "#Therefore the accurate year should be 2018\r\n",
        "#Checking this is the case\r\n",
        "\r\n",
        "autolib_new['YEAR'].unique()"
      ],
      "execution_count": 402,
      "outputs": [
        {
          "output_type": "execute_result",
          "data": {
            "text/plain": [
              "array([2018])"
            ]
          },
          "metadata": {
            "tags": []
          },
          "execution_count": 402
        }
      ]
    },
    {
      "cell_type": "code",
      "metadata": {
        "colab": {
          "base_uri": "https://localhost:8080/"
        },
        "id": "U3vMD4gGf0jd",
        "outputId": "78943ddc-4e4e-42e1-ba46-0bcd359da8cd"
      },
      "source": [
        "#Confirming we have the month of April in the column Month \r\n",
        "autolib_new['MONTH'].unique()"
      ],
      "execution_count": 403,
      "outputs": [
        {
          "output_type": "execute_result",
          "data": {
            "text/plain": [
              "array([4])"
            ]
          },
          "metadata": {
            "tags": []
          },
          "execution_count": 403
        }
      ]
    },
    {
      "cell_type": "code",
      "metadata": {
        "colab": {
          "base_uri": "https://localhost:8080/"
        },
        "id": "J1BopvnLgJP1",
        "outputId": "fde24e8f-8384-4054-b539-16320c6294d7"
      },
      "source": [
        "#Confirming we have the right day. We know the data was collected from the 1st of April to the 8th of April\r\n",
        "autolib_new['DAY'].unique()"
      ],
      "execution_count": 92,
      "outputs": [
        {
          "output_type": "execute_result",
          "data": {
            "text/plain": [
              "array([8, 6, 3, 4, 2, 1, 5, 9, 7])"
            ]
          },
          "metadata": {
            "tags": []
          },
          "execution_count": 92
        }
      ]
    },
    {
      "cell_type": "code",
      "metadata": {
        "colab": {
          "base_uri": "https://localhost:8080/"
        },
        "id": "n1u4FrH6goA-",
        "outputId": "24910e4f-88c3-4a67-b2c0-134242f6870a"
      },
      "source": [
        "#Confirming we have the correct hour values\r\n",
        "autolib_new['HOUR'].unique()"
      ],
      "execution_count": 93,
      "outputs": [
        {
          "output_type": "execute_result",
          "data": {
            "text/plain": [
              "array([11,  7, 20,  4, 17, 22, 15,  9, 12, 21,  8,  0, 19,  6,  3, 23,  1,\n",
              "       10, 16, 13, 18,  2, 14,  5])"
            ]
          },
          "metadata": {
            "tags": []
          },
          "execution_count": 93
        }
      ]
    },
    {
      "cell_type": "code",
      "metadata": {
        "colab": {
          "base_uri": "https://localhost:8080/"
        },
        "id": "kA2hioY3g5Om",
        "outputId": "623a0d80-37e9-490e-d597-a593914d0595"
      },
      "source": [
        "#Confirming we have the correct Minute values\r\n",
        "autolib_new['MINUTE'].unique()"
      ],
      "execution_count": 94,
      "outputs": [
        {
          "output_type": "execute_result",
          "data": {
            "text/plain": [
              "array([43, 24, 14, 37, 23,  2, 13, 58, 39, 20, 22, 54,  0, 21, 31, 16, 32,\n",
              "        6, 11, 27, 40, 53, 28,  7,  9, 51, 48, 36, 17,  3, 38, 25,  5, 35,\n",
              "       52, 49, 44, 56, 55, 29, 59, 10, 41, 42, 50,  8, 19, 57, 34, 46,  4,\n",
              "       18, 26, 47, 45, 33,  1, 30, 12, 15])"
            ]
          },
          "metadata": {
            "tags": []
          },
          "execution_count": 94
        }
      ]
    },
    {
      "cell_type": "markdown",
      "metadata": {
        "id": "5pgZ6t-9hzF2"
      },
      "source": [
        "**2.2.3 Completeness**"
      ]
    },
    {
      "cell_type": "code",
      "metadata": {
        "colab": {
          "base_uri": "https://localhost:8080/"
        },
        "id": "ZjEm3rR7g-tO",
        "outputId": "01c3cb10-ed3e-4064-fcdb-d41e9542b8bc"
      },
      "source": [
        "#Ensuring that there are no missing values in our data\r\n",
        "autolib_new.isna().any().any()"
      ],
      "execution_count": 440,
      "outputs": [
        {
          "output_type": "execute_result",
          "data": {
            "text/plain": [
              "False"
            ]
          },
          "metadata": {
            "tags": []
          },
          "execution_count": 440
        }
      ]
    },
    {
      "cell_type": "code",
      "metadata": {
        "colab": {
          "base_uri": "https://localhost:8080/"
        },
        "id": "dqtjj_NBk_-o",
        "outputId": "a2f5ed57-ff3b-4455-eba9-99bb467eab3d"
      },
      "source": [
        "autolib_new.isnull().values.any()"
      ],
      "execution_count": 184,
      "outputs": [
        {
          "output_type": "execute_result",
          "data": {
            "text/plain": [
              "False"
            ]
          },
          "metadata": {
            "tags": []
          },
          "execution_count": 184
        }
      ]
    },
    {
      "cell_type": "markdown",
      "metadata": {
        "id": "B1Is1BdJkNqr"
      },
      "source": [
        "**2.2.4 Consistency**"
      ]
    },
    {
      "cell_type": "code",
      "metadata": {
        "colab": {
          "base_uri": "https://localhost:8080/"
        },
        "id": "E7jfCb1Hi9af",
        "outputId": "a139b489-1710-4078-87f5-04b8b8ea4f0f"
      },
      "source": [
        "autolib_new.duplicated(keep=False)\r\n",
        "\r\n",
        "#There are no duplicates in our data"
      ],
      "execution_count": 405,
      "outputs": [
        {
          "output_type": "execute_result",
          "data": {
            "text/plain": [
              "0       False\n",
              "1       False\n",
              "2       False\n",
              "3       False\n",
              "4       False\n",
              "        ...  \n",
              "4995    False\n",
              "4996    False\n",
              "4997    False\n",
              "4998    False\n",
              "4999    False\n",
              "Length: 4618, dtype: bool"
            ]
          },
          "metadata": {
            "tags": []
          },
          "execution_count": 405
        }
      ]
    },
    {
      "cell_type": "code",
      "metadata": {
        "colab": {
          "base_uri": "https://localhost:8080/"
        },
        "id": "suK3ITQgkVNE",
        "outputId": "8de01b47-1dce-4980-ac83-0bdaad8dff5d"
      },
      "source": [
        "#We re-confirm by counting number of duplicates\r\n",
        "autolib_new.duplicated().sum()"
      ],
      "execution_count": 441,
      "outputs": [
        {
          "output_type": "execute_result",
          "data": {
            "text/plain": [
              "0"
            ]
          },
          "metadata": {
            "tags": []
          },
          "execution_count": 441
        }
      ]
    },
    {
      "cell_type": "markdown",
      "metadata": {
        "id": "2JdcUaQ4m4qU"
      },
      "source": [
        "**2.2.5 Uniformity**"
      ]
    },
    {
      "cell_type": "code",
      "metadata": {
        "id": "uc2uSRuHm9WE"
      },
      "source": [
        "#Additional feature engineering operations need to be conducted on our columns.\r\n",
        "#For instance, to get an accurate and clear account of Date & Time, \r\n",
        "#we need to join the year, month, Day, Hour and Minute columns\r\n",
        "#We do this by first creating a DATE column "
      ],
      "execution_count": 407,
      "outputs": []
    },
    {
      "cell_type": "code",
      "metadata": {
        "colab": {
          "base_uri": "https://localhost:8080/",
          "height": 759
        },
        "id": "G8sLIiWMniwF",
        "outputId": "bf0db44f-34a3-470c-8dd3-5fabcfefb203"
      },
      "source": [
        "autolib_new[\"DATE\"]= pd.to_datetime(autolib_new[[\"YEAR\",\"MONTH\",\"DAY\",\"HOUR\",\"MINUTE\"]])\r\n",
        "autolib_new"
      ],
      "execution_count": 442,
      "outputs": [
        {
          "output_type": "execute_result",
          "data": {
            "text/html": [
              "<div>\n",
              "<style scoped>\n",
              "    .dataframe tbody tr th:only-of-type {\n",
              "        vertical-align: middle;\n",
              "    }\n",
              "\n",
              "    .dataframe tbody tr th {\n",
              "        vertical-align: top;\n",
              "    }\n",
              "\n",
              "    .dataframe thead th {\n",
              "        text-align: right;\n",
              "    }\n",
              "</style>\n",
              "<table border=\"1\" class=\"dataframe\">\n",
              "  <thead>\n",
              "    <tr style=\"text-align: right;\">\n",
              "      <th></th>\n",
              "      <th>ADDRESS</th>\n",
              "      <th>CARS</th>\n",
              "      <th>BLUECAR_COUNTER</th>\n",
              "      <th>UTILIB_COUNTER</th>\n",
              "      <th>UTILIB_1_4_COUNTER</th>\n",
              "      <th>CITY</th>\n",
              "      <th>POSTAL_CODE</th>\n",
              "      <th>PUBLIC_NAME</th>\n",
              "      <th>RENTAL_STATUS</th>\n",
              "      <th>YEAR</th>\n",
              "      <th>MONTH</th>\n",
              "      <th>DAY</th>\n",
              "      <th>HOUR</th>\n",
              "      <th>MINUTE</th>\n",
              "      <th>DATE</th>\n",
              "    </tr>\n",
              "  </thead>\n",
              "  <tbody>\n",
              "    <tr>\n",
              "      <th>0</th>\n",
              "      <td>2 Avenue de Suffren</td>\n",
              "      <td>0</td>\n",
              "      <td>0</td>\n",
              "      <td>0</td>\n",
              "      <td>0</td>\n",
              "      <td>Paris</td>\n",
              "      <td>75015</td>\n",
              "      <td>Paris/Suffren/2</td>\n",
              "      <td>operational</td>\n",
              "      <td>2018</td>\n",
              "      <td>4</td>\n",
              "      <td>8</td>\n",
              "      <td>11</td>\n",
              "      <td>43</td>\n",
              "      <td>2018-04-08 11:43:00</td>\n",
              "    </tr>\n",
              "    <tr>\n",
              "      <th>1</th>\n",
              "      <td>145 Rue Raymond Losserand</td>\n",
              "      <td>6</td>\n",
              "      <td>6</td>\n",
              "      <td>0</td>\n",
              "      <td>0</td>\n",
              "      <td>Paris</td>\n",
              "      <td>75014</td>\n",
              "      <td>Paris/Raymond Losserand/145</td>\n",
              "      <td>operational</td>\n",
              "      <td>2018</td>\n",
              "      <td>4</td>\n",
              "      <td>6</td>\n",
              "      <td>7</td>\n",
              "      <td>24</td>\n",
              "      <td>2018-04-06 07:24:00</td>\n",
              "    </tr>\n",
              "    <tr>\n",
              "      <th>2</th>\n",
              "      <td>2 Avenue John Fitzgerald Kennedy</td>\n",
              "      <td>3</td>\n",
              "      <td>3</td>\n",
              "      <td>0</td>\n",
              "      <td>2</td>\n",
              "      <td>Le Bourget</td>\n",
              "      <td>93350</td>\n",
              "      <td>Le Bourget/John Fitzgerald Kennedy/2</td>\n",
              "      <td>operational</td>\n",
              "      <td>2018</td>\n",
              "      <td>4</td>\n",
              "      <td>3</td>\n",
              "      <td>20</td>\n",
              "      <td>14</td>\n",
              "      <td>2018-04-03 20:14:00</td>\n",
              "    </tr>\n",
              "    <tr>\n",
              "      <th>3</th>\n",
              "      <td>51 Rue EugÃ¨ne OudinÃ</td>\n",
              "      <td>3</td>\n",
              "      <td>3</td>\n",
              "      <td>1</td>\n",
              "      <td>0</td>\n",
              "      <td>Paris</td>\n",
              "      <td>75013</td>\n",
              "      <td>Paris/EugÃ¨ne OudinÃ/51</td>\n",
              "      <td>operational</td>\n",
              "      <td>2018</td>\n",
              "      <td>4</td>\n",
              "      <td>4</td>\n",
              "      <td>4</td>\n",
              "      <td>37</td>\n",
              "      <td>2018-04-04 04:37:00</td>\n",
              "    </tr>\n",
              "    <tr>\n",
              "      <th>4</th>\n",
              "      <td>6 avenue de la Porte de Champerret</td>\n",
              "      <td>3</td>\n",
              "      <td>3</td>\n",
              "      <td>0</td>\n",
              "      <td>0</td>\n",
              "      <td>Paris</td>\n",
              "      <td>75017</td>\n",
              "      <td>Paris/Porte de Champerret/6</td>\n",
              "      <td>operational</td>\n",
              "      <td>2018</td>\n",
              "      <td>4</td>\n",
              "      <td>8</td>\n",
              "      <td>17</td>\n",
              "      <td>23</td>\n",
              "      <td>2018-04-08 17:23:00</td>\n",
              "    </tr>\n",
              "    <tr>\n",
              "      <th>...</th>\n",
              "      <td>...</td>\n",
              "      <td>...</td>\n",
              "      <td>...</td>\n",
              "      <td>...</td>\n",
              "      <td>...</td>\n",
              "      <td>...</td>\n",
              "      <td>...</td>\n",
              "      <td>...</td>\n",
              "      <td>...</td>\n",
              "      <td>...</td>\n",
              "      <td>...</td>\n",
              "      <td>...</td>\n",
              "      <td>...</td>\n",
              "      <td>...</td>\n",
              "      <td>...</td>\n",
              "    </tr>\n",
              "    <tr>\n",
              "      <th>4995</th>\n",
              "      <td>8 avenue MÃnelotte</td>\n",
              "      <td>2</td>\n",
              "      <td>2</td>\n",
              "      <td>0</td>\n",
              "      <td>0</td>\n",
              "      <td>Colombes</td>\n",
              "      <td>92700</td>\n",
              "      <td>Colombes/MÃnelotte/8</td>\n",
              "      <td>operational</td>\n",
              "      <td>2018</td>\n",
              "      <td>4</td>\n",
              "      <td>6</td>\n",
              "      <td>11</td>\n",
              "      <td>26</td>\n",
              "      <td>2018-04-06 11:26:00</td>\n",
              "    </tr>\n",
              "    <tr>\n",
              "      <th>4996</th>\n",
              "      <td>37 rue de Dantzig</td>\n",
              "      <td>4</td>\n",
              "      <td>4</td>\n",
              "      <td>0</td>\n",
              "      <td>0</td>\n",
              "      <td>Paris</td>\n",
              "      <td>75015</td>\n",
              "      <td>Paris/Dantzig/37</td>\n",
              "      <td>operational</td>\n",
              "      <td>2018</td>\n",
              "      <td>4</td>\n",
              "      <td>4</td>\n",
              "      <td>16</td>\n",
              "      <td>56</td>\n",
              "      <td>2018-04-04 16:56:00</td>\n",
              "    </tr>\n",
              "    <tr>\n",
              "      <th>4997</th>\n",
              "      <td>142 rue du Bac</td>\n",
              "      <td>1</td>\n",
              "      <td>1</td>\n",
              "      <td>0</td>\n",
              "      <td>0</td>\n",
              "      <td>Paris</td>\n",
              "      <td>75007</td>\n",
              "      <td>Paris/Bac/142</td>\n",
              "      <td>operational</td>\n",
              "      <td>2018</td>\n",
              "      <td>4</td>\n",
              "      <td>1</td>\n",
              "      <td>7</td>\n",
              "      <td>1</td>\n",
              "      <td>2018-04-01 07:01:00</td>\n",
              "    </tr>\n",
              "    <tr>\n",
              "      <th>4998</th>\n",
              "      <td>2 avenue du Val de Fontenay</td>\n",
              "      <td>2</td>\n",
              "      <td>2</td>\n",
              "      <td>0</td>\n",
              "      <td>0</td>\n",
              "      <td>Fontenay-Sous-Bois</td>\n",
              "      <td>94120</td>\n",
              "      <td>Fontenay-Sous-Bois/Val de Fontenay/2</td>\n",
              "      <td>operational</td>\n",
              "      <td>2018</td>\n",
              "      <td>4</td>\n",
              "      <td>4</td>\n",
              "      <td>17</td>\n",
              "      <td>27</td>\n",
              "      <td>2018-04-04 17:27:00</td>\n",
              "    </tr>\n",
              "    <tr>\n",
              "      <th>4999</th>\n",
              "      <td>5 Rue Henry Brisson</td>\n",
              "      <td>4</td>\n",
              "      <td>4</td>\n",
              "      <td>0</td>\n",
              "      <td>0</td>\n",
              "      <td>Paris</td>\n",
              "      <td>75018</td>\n",
              "      <td>Paris/Henry Brisson/5</td>\n",
              "      <td>operational</td>\n",
              "      <td>2018</td>\n",
              "      <td>4</td>\n",
              "      <td>8</td>\n",
              "      <td>10</td>\n",
              "      <td>2</td>\n",
              "      <td>2018-04-08 10:02:00</td>\n",
              "    </tr>\n",
              "  </tbody>\n",
              "</table>\n",
              "<p>4618 rows × 15 columns</p>\n",
              "</div>"
            ],
            "text/plain": [
              "                                 ADDRESS  CARS  ...  MINUTE                DATE\n",
              "0                    2 Avenue de Suffren     0  ...      43 2018-04-08 11:43:00\n",
              "1              145 Rue Raymond Losserand     6  ...      24 2018-04-06 07:24:00\n",
              "2       2 Avenue John Fitzgerald Kennedy     3  ...      14 2018-04-03 20:14:00\n",
              "3                  51 Rue EugÃ¨ne OudinÃ     3  ...      37 2018-04-04 04:37:00\n",
              "4     6 avenue de la Porte de Champerret     3  ...      23 2018-04-08 17:23:00\n",
              "...                                  ...   ...  ...     ...                 ...\n",
              "4995                  8 avenue MÃnelotte     2  ...      26 2018-04-06 11:26:00\n",
              "4996                   37 rue de Dantzig     4  ...      56 2018-04-04 16:56:00\n",
              "4997                      142 rue du Bac     1  ...       1 2018-04-01 07:01:00\n",
              "4998         2 avenue du Val de Fontenay     2  ...      27 2018-04-04 17:27:00\n",
              "4999                 5 Rue Henry Brisson     4  ...       2 2018-04-08 10:02:00\n",
              "\n",
              "[4618 rows x 15 columns]"
            ]
          },
          "metadata": {
            "tags": []
          },
          "execution_count": 442
        }
      ]
    },
    {
      "cell_type": "code",
      "metadata": {
        "id": "BlbjXUSGpq59"
      },
      "source": [
        "#Since we have a single DATE column with DATE & TIME\r\n",
        "#We can drop the YEAR, MONTH and MINUTE columns as they are now superflous \r\n",
        "#We keep the Day and Hour Columns because we will need them in our study"
      ],
      "execution_count": 443,
      "outputs": []
    },
    {
      "cell_type": "code",
      "metadata": {
        "id": "maKU4D0aqGMl"
      },
      "source": [
        "autolib_new.drop([\"YEAR\",\"MONTH\",\"MINUTE\"], axis=1, inplace=True)"
      ],
      "execution_count": 409,
      "outputs": []
    },
    {
      "cell_type": "code",
      "metadata": {
        "colab": {
          "base_uri": "https://localhost:8080/",
          "height": 244
        },
        "id": "dsPm_68-qtUE",
        "outputId": "dbcb806d-f2c5-4808-e6cd-bfafcad56dfb"
      },
      "source": [
        "#Our new column:\r\n",
        "autolib_new.head(3)"
      ],
      "execution_count": 444,
      "outputs": [
        {
          "output_type": "execute_result",
          "data": {
            "text/html": [
              "<div>\n",
              "<style scoped>\n",
              "    .dataframe tbody tr th:only-of-type {\n",
              "        vertical-align: middle;\n",
              "    }\n",
              "\n",
              "    .dataframe tbody tr th {\n",
              "        vertical-align: top;\n",
              "    }\n",
              "\n",
              "    .dataframe thead th {\n",
              "        text-align: right;\n",
              "    }\n",
              "</style>\n",
              "<table border=\"1\" class=\"dataframe\">\n",
              "  <thead>\n",
              "    <tr style=\"text-align: right;\">\n",
              "      <th></th>\n",
              "      <th>ADDRESS</th>\n",
              "      <th>CARS</th>\n",
              "      <th>BLUECAR_COUNTER</th>\n",
              "      <th>UTILIB_COUNTER</th>\n",
              "      <th>UTILIB_1_4_COUNTER</th>\n",
              "      <th>CITY</th>\n",
              "      <th>POSTAL_CODE</th>\n",
              "      <th>PUBLIC_NAME</th>\n",
              "      <th>RENTAL_STATUS</th>\n",
              "      <th>YEAR</th>\n",
              "      <th>MONTH</th>\n",
              "      <th>DAY</th>\n",
              "      <th>HOUR</th>\n",
              "      <th>MINUTE</th>\n",
              "      <th>DATE</th>\n",
              "    </tr>\n",
              "  </thead>\n",
              "  <tbody>\n",
              "    <tr>\n",
              "      <th>0</th>\n",
              "      <td>2 Avenue de Suffren</td>\n",
              "      <td>0</td>\n",
              "      <td>0</td>\n",
              "      <td>0</td>\n",
              "      <td>0</td>\n",
              "      <td>Paris</td>\n",
              "      <td>75015</td>\n",
              "      <td>Paris/Suffren/2</td>\n",
              "      <td>operational</td>\n",
              "      <td>2018</td>\n",
              "      <td>4</td>\n",
              "      <td>8</td>\n",
              "      <td>11</td>\n",
              "      <td>43</td>\n",
              "      <td>2018-04-08 11:43:00</td>\n",
              "    </tr>\n",
              "    <tr>\n",
              "      <th>1</th>\n",
              "      <td>145 Rue Raymond Losserand</td>\n",
              "      <td>6</td>\n",
              "      <td>6</td>\n",
              "      <td>0</td>\n",
              "      <td>0</td>\n",
              "      <td>Paris</td>\n",
              "      <td>75014</td>\n",
              "      <td>Paris/Raymond Losserand/145</td>\n",
              "      <td>operational</td>\n",
              "      <td>2018</td>\n",
              "      <td>4</td>\n",
              "      <td>6</td>\n",
              "      <td>7</td>\n",
              "      <td>24</td>\n",
              "      <td>2018-04-06 07:24:00</td>\n",
              "    </tr>\n",
              "    <tr>\n",
              "      <th>2</th>\n",
              "      <td>2 Avenue John Fitzgerald Kennedy</td>\n",
              "      <td>3</td>\n",
              "      <td>3</td>\n",
              "      <td>0</td>\n",
              "      <td>2</td>\n",
              "      <td>Le Bourget</td>\n",
              "      <td>93350</td>\n",
              "      <td>Le Bourget/John Fitzgerald Kennedy/2</td>\n",
              "      <td>operational</td>\n",
              "      <td>2018</td>\n",
              "      <td>4</td>\n",
              "      <td>3</td>\n",
              "      <td>20</td>\n",
              "      <td>14</td>\n",
              "      <td>2018-04-03 20:14:00</td>\n",
              "    </tr>\n",
              "  </tbody>\n",
              "</table>\n",
              "</div>"
            ],
            "text/plain": [
              "                            ADDRESS  CARS  ...  MINUTE                DATE\n",
              "0               2 Avenue de Suffren     0  ...      43 2018-04-08 11:43:00\n",
              "1         145 Rue Raymond Losserand     6  ...      24 2018-04-06 07:24:00\n",
              "2  2 Avenue John Fitzgerald Kennedy     3  ...      14 2018-04-03 20:14:00\n",
              "\n",
              "[3 rows x 15 columns]"
            ]
          },
          "metadata": {
            "tags": []
          },
          "execution_count": 444
        }
      ]
    },
    {
      "cell_type": "markdown",
      "metadata": {
        "id": "PQAUT_2XsikW"
      },
      "source": [
        "Detecting if there are any outliers in our data"
      ]
    },
    {
      "cell_type": "code",
      "metadata": {
        "colab": {
          "base_uri": "https://localhost:8080/",
          "height": 283
        },
        "id": "reEJ6EOasppN",
        "outputId": "24a610aa-89cf-4010-aa57-10a2f1d1d4ac"
      },
      "source": [
        "#We already know from carrying out unique() tests in \r\n",
        "#our car columns that our data is within range and as expected. \r\n",
        "#There are no significant outliers. Low demand/use may spring up some outliers but \r\n",
        "#given the size of the dataset we have to keep them.\r\n",
        "#We expect reasonable outliers from our data\r\n",
        "#Anyhow just to confirm visually that this is the case we use a box plot\r\n",
        "% matplotlib inline \r\n",
        "\r\n",
        "autolib_new_set.boxplot(column =['BLUECAR_COUNTER', 'UTILIB_COUNTER', 'UTILIB_1_4_COUNTER'], grid = False)\r\n",
        "#bplot = sns.boxplot(y='lifeExp', x='continent', data=gapminder_2007, width=0.5, palette=\"colorblind\")"
      ],
      "execution_count": 445,
      "outputs": [
        {
          "output_type": "execute_result",
          "data": {
            "text/plain": [
              "<matplotlib.axes._subplots.AxesSubplot at 0x7f9fd3014ba8>"
            ]
          },
          "metadata": {
            "tags": []
          },
          "execution_count": 445
        },
        {
          "output_type": "display_data",
          "data": {
            "image/png": "[encoded data removed]",
            "text/plain": [
              "<Figure size 432x288 with 1 Axes>"
            ]
          },
          "metadata": {
            "tags": [],
            "needs_background": "light"
          }
        }
      ]
    },
    {
      "cell_type": "markdown",
      "metadata": {
        "id": "hUfk2Dju4CZE"
      },
      "source": [
        "Our boxplot avove confirms that theer are no outliers in our data. \r\n",
        "\r\n",
        "***Having done all the requisite Data Cleaning Operations, our data should be both valid and ready for analysis***"
      ]
    },
    {
      "cell_type": "markdown",
      "metadata": {
        "id": "-Ndp76mB7Sri"
      },
      "source": [
        "**3.0 Analysis**\r\n",
        "\r\n",
        "\r\n",
        "To compute usage, we will need to understand that we have to join successive (in time) measures/counters for a given station, as the difference will tell whether a car was picked up, returned, or nothing happened."
      ]
    },
    {
      "cell_type": "markdown",
      "metadata": {
        "id": "s4kEBqswZNgZ"
      },
      "source": [
        "3.1. Computing USage"
      ]
    },
    {
      "cell_type": "code",
      "metadata": {
        "colab": {
          "base_uri": "https://localhost:8080/",
          "height": 204
        },
        "id": "6OPIGdaJPdCE",
        "outputId": "23d7138a-6b83-4c88-869d-dc3bcfaf905b"
      },
      "source": [
        "#Since the ADDRESS where cars are picked and returned are unique, we will need to to ensure we sort our data with address and time\r\n",
        "\r\n",
        "autolib_new_set.sort_values(by=[\"PUBLIC_NAME\", \"DATE\"])\r\n",
        "autolib_new_set.head()"
      ],
      "execution_count": 446,
      "outputs": [
        {
          "output_type": "execute_result",
          "data": {
            "text/html": [
              "<div>\n",
              "<style scoped>\n",
              "    .dataframe tbody tr th:only-of-type {\n",
              "        vertical-align: middle;\n",
              "    }\n",
              "\n",
              "    .dataframe tbody tr th {\n",
              "        vertical-align: top;\n",
              "    }\n",
              "\n",
              "    .dataframe thead th {\n",
              "        text-align: right;\n",
              "    }\n",
              "</style>\n",
              "<table border=\"1\" class=\"dataframe\">\n",
              "  <thead>\n",
              "    <tr style=\"text-align: right;\">\n",
              "      <th></th>\n",
              "      <th>ADDRESS</th>\n",
              "      <th>CARS</th>\n",
              "      <th>BLUECAR_COUNTER</th>\n",
              "      <th>UTILIB_COUNTER</th>\n",
              "      <th>UTILIB_1_4_COUNTER</th>\n",
              "      <th>CITY</th>\n",
              "      <th>POSTAL_CODE</th>\n",
              "      <th>PUBLIC_NAME</th>\n",
              "      <th>RENTAL_STATUS</th>\n",
              "      <th>DAY</th>\n",
              "      <th>HOUR</th>\n",
              "      <th>DATE</th>\n",
              "    </tr>\n",
              "  </thead>\n",
              "  <tbody>\n",
              "    <tr>\n",
              "      <th>1046</th>\n",
              "      <td>112 Rue Monge BÃ¢timent Lieu-dit</td>\n",
              "      <td>0</td>\n",
              "      <td>0</td>\n",
              "      <td>0</td>\n",
              "      <td>0</td>\n",
              "      <td>Paris</td>\n",
              "      <td>75005</td>\n",
              "      <td>Paris/Monge/112</td>\n",
              "      <td>operational</td>\n",
              "      <td>1</td>\n",
              "      <td>0</td>\n",
              "      <td>2018-04-01 00:00:00</td>\n",
              "    </tr>\n",
              "    <tr>\n",
              "      <th>2874</th>\n",
              "      <td>44 rue SÃebastien Mercier</td>\n",
              "      <td>0</td>\n",
              "      <td>0</td>\n",
              "      <td>0</td>\n",
              "      <td>0</td>\n",
              "      <td>Paris</td>\n",
              "      <td>75015</td>\n",
              "      <td>Paris/SÃbastien Mercier/44</td>\n",
              "      <td>operational</td>\n",
              "      <td>1</td>\n",
              "      <td>0</td>\n",
              "      <td>2018-04-01 00:02:00</td>\n",
              "    </tr>\n",
              "    <tr>\n",
              "      <th>1107</th>\n",
              "      <td>19 place de la Madeleine</td>\n",
              "      <td>0</td>\n",
              "      <td>0</td>\n",
              "      <td>0</td>\n",
              "      <td>0</td>\n",
              "      <td>Paris</td>\n",
              "      <td>75008</td>\n",
              "      <td>Paris/Madeleine Tronchet/Parking</td>\n",
              "      <td>operational</td>\n",
              "      <td>1</td>\n",
              "      <td>0</td>\n",
              "      <td>2018-04-01 00:02:00</td>\n",
              "    </tr>\n",
              "    <tr>\n",
              "      <th>2059</th>\n",
              "      <td>2 Avenue Mozart</td>\n",
              "      <td>1</td>\n",
              "      <td>1</td>\n",
              "      <td>0</td>\n",
              "      <td>0</td>\n",
              "      <td>Paris</td>\n",
              "      <td>75016</td>\n",
              "      <td>Paris/Mozart/2</td>\n",
              "      <td>operational</td>\n",
              "      <td>1</td>\n",
              "      <td>0</td>\n",
              "      <td>2018-04-01 00:03:00</td>\n",
              "    </tr>\n",
              "    <tr>\n",
              "      <th>4453</th>\n",
              "      <td>2 rue Neuve Saint-Pierre</td>\n",
              "      <td>0</td>\n",
              "      <td>0</td>\n",
              "      <td>0</td>\n",
              "      <td>0</td>\n",
              "      <td>Paris</td>\n",
              "      <td>75004</td>\n",
              "      <td>Paris/Neuve Saint-Pierre/2</td>\n",
              "      <td>operational</td>\n",
              "      <td>1</td>\n",
              "      <td>0</td>\n",
              "      <td>2018-04-01 00:04:00</td>\n",
              "    </tr>\n",
              "  </tbody>\n",
              "</table>\n",
              "</div>"
            ],
            "text/plain": [
              "                               ADDRESS  CARS  ...  HOUR                DATE\n",
              "1046  112 Rue Monge BÃ¢timent Lieu-dit     0  ...     0 2018-04-01 00:00:00\n",
              "2874         44 rue SÃebastien Mercier     0  ...     0 2018-04-01 00:02:00\n",
              "1107          19 place de la Madeleine     0  ...     0 2018-04-01 00:02:00\n",
              "2059                   2 Avenue Mozart     1  ...     0 2018-04-01 00:03:00\n",
              "4453          2 rue Neuve Saint-Pierre     0  ...     0 2018-04-01 00:04:00\n",
              "\n",
              "[5 rows x 12 columns]"
            ]
          },
          "metadata": {
            "tags": []
          },
          "execution_count": 446
        }
      ]
    },
    {
      "cell_type": "code",
      "metadata": {
        "colab": {
          "base_uri": "https://localhost:8080/"
        },
        "id": "NAM2e0JPgANC",
        "outputId": "95389151-e45b-45ad-bac0-c30ffbe7b85b"
      },
      "source": [
        "autolib_new_set.info()"
      ],
      "execution_count": 447,
      "outputs": [
        {
          "output_type": "stream",
          "text": [
            "<class 'pandas.core.frame.DataFrame'>\n",
            "Int64Index: 4618 entries, 1046 to 3201\n",
            "Data columns (total 12 columns):\n",
            " #   Column              Non-Null Count  Dtype         \n",
            "---  ------              --------------  -----         \n",
            " 0   ADDRESS             4618 non-null   object        \n",
            " 1   CARS                4618 non-null   int64         \n",
            " 2   BLUECAR_COUNTER     4618 non-null   int64         \n",
            " 3   UTILIB_COUNTER      4618 non-null   int64         \n",
            " 4   UTILIB_1_4_COUNTER  4618 non-null   int64         \n",
            " 5   CITY                4618 non-null   object        \n",
            " 6   POSTAL_CODE         4618 non-null   int64         \n",
            " 7   PUBLIC_NAME         4618 non-null   object        \n",
            " 8   RENTAL_STATUS       4618 non-null   object        \n",
            " 9   DAY                 4618 non-null   int64         \n",
            " 10  HOUR                4618 non-null   int64         \n",
            " 11  DATE                4618 non-null   datetime64[ns]\n",
            "dtypes: datetime64[ns](1), int64(7), object(4)\n",
            "memory usage: 469.0+ KB\n"
          ],
          "name": "stdout"
        }
      ]
    },
    {
      "cell_type": "markdown",
      "metadata": {
        "id": "xS_mry1yg30Y"
      },
      "source": [
        "**3.1 Preliminary Analysis**"
      ]
    },
    {
      "cell_type": "code",
      "metadata": {
        "colab": {
          "base_uri": "https://localhost:8080/"
        },
        "id": "t-6bIdB_gho_",
        "outputId": "5062e71c-4ed3-4110-b5e5-50e5003ef590"
      },
      "source": [
        "#Number of Stations identifiable by the ADDRESSES\r\n",
        "len(list(autolib_new_set['ADDRESS'].unique()))"
      ],
      "execution_count": 450,
      "outputs": [
        {
          "output_type": "execute_result",
          "data": {
            "text/plain": [
              "1025"
            ]
          },
          "metadata": {
            "tags": []
          },
          "execution_count": 450
        }
      ]
    },
    {
      "cell_type": "code",
      "metadata": {
        "colab": {
          "base_uri": "https://localhost:8080/"
        },
        "id": "IEWZFaoLk-J3",
        "outputId": "793339bf-61d7-4243-a7d1-1e63aecd62d8"
      },
      "source": [
        "len(list(autolib_new_set['POSTAL_CODE'].unique()))"
      ],
      "execution_count": 422,
      "outputs": [
        {
          "output_type": "execute_result",
          "data": {
            "text/plain": [
              "103"
            ]
          },
          "metadata": {
            "tags": []
          },
          "execution_count": 422
        }
      ]
    },
    {
      "cell_type": "code",
      "metadata": {
        "colab": {
          "base_uri": "https://localhost:8080/"
        },
        "id": "nVh4Ar-Ih-mS",
        "outputId": "56806812-fdf6-4abb-8010-22d17b457d3e"
      },
      "source": [
        "#Number of Days\r\n",
        "len(list(autolib_new_set['DAY'].unique()))"
      ],
      "execution_count": 421,
      "outputs": [
        {
          "output_type": "execute_result",
          "data": {
            "text/plain": [
              "9"
            ]
          },
          "metadata": {
            "tags": []
          },
          "execution_count": 421
        }
      ]
    },
    {
      "cell_type": "code",
      "metadata": {
        "id": "fU6TS4mCkjCD"
      },
      "source": [
        "#Summary Static of CARS\r\n",
        "autolib_new_set['CARS'] = autolib_new_set['CARS'].astype('category')\r\n"
      ],
      "execution_count": 451,
      "outputs": []
    },
    {
      "cell_type": "code",
      "metadata": {
        "colab": {
          "base_uri": "https://localhost:8080/"
        },
        "id": "Q1M_oqiEm0mZ",
        "outputId": "01c85b21-7bc3-41c7-c032-d6244fc07f67"
      },
      "source": [
        "autolib_new_set['CARS'].describe()"
      ],
      "execution_count": 452,
      "outputs": [
        {
          "output_type": "execute_result",
          "data": {
            "text/plain": [
              "count     4618\n",
              "unique       8\n",
              "top          0\n",
              "freq      1065\n",
              "Name: CARS, dtype: int64"
            ]
          },
          "metadata": {
            "tags": []
          },
          "execution_count": 452
        }
      ]
    },
    {
      "cell_type": "code",
      "metadata": {
        "id": "02Mt63vmtaYy"
      },
      "source": [
        "autolib_new_set['CARS'] = autolib_new_set['CARS'].astype(int)"
      ],
      "execution_count": 453,
      "outputs": []
    },
    {
      "cell_type": "markdown",
      "metadata": {
        "id": "Tjg_NcUVgWMJ"
      },
      "source": [
        "**4.0 Questions**"
      ]
    },
    {
      "cell_type": "markdown",
      "metadata": {
        "id": "4MKt9-22ZCf8"
      },
      "source": [
        "1. What is the most popular hour for picking up  a shared electric car (Bluecar) in the city of Paris over the month of April 2018"
      ]
    },
    {
      "cell_type": "markdown",
      "metadata": {
        "id": "RNSnrI_or6nY"
      },
      "source": [
        "To answer this question we will need to compute the cummulative difference or lags in picking up a shared electric car. To do this we will use **shift()** which is a very powerful Ufunc.\r\n",
        "When a car is picked the lag moves closer and even below zero.\r\n",
        "\r\n",
        "When a previously picked car is returned the lag moves closer and above zero.\r\n"
      ]
    },
    {
      "cell_type": "code",
      "metadata": {
        "colab": {
          "base_uri": "https://localhost:8080/",
          "height": 204
        },
        "id": "jR2qxDZE1eEr",
        "outputId": "db07cc06-1c1b-4882-c276-c51cb514cf26"
      },
      "source": [
        "#First, lets select the City under study.\r\n",
        "#Subsetting the City of Paris\r\n",
        "paris_only = autolib_new_set[autolib_new_set[\"CITY\"]== \"Paris\"]\r\n",
        "paris_only.head()"
      ],
      "execution_count": 454,
      "outputs": [
        {
          "output_type": "execute_result",
          "data": {
            "text/html": [
              "<div>\n",
              "<style scoped>\n",
              "    .dataframe tbody tr th:only-of-type {\n",
              "        vertical-align: middle;\n",
              "    }\n",
              "\n",
              "    .dataframe tbody tr th {\n",
              "        vertical-align: top;\n",
              "    }\n",
              "\n",
              "    .dataframe thead th {\n",
              "        text-align: right;\n",
              "    }\n",
              "</style>\n",
              "<table border=\"1\" class=\"dataframe\">\n",
              "  <thead>\n",
              "    <tr style=\"text-align: right;\">\n",
              "      <th></th>\n",
              "      <th>ADDRESS</th>\n",
              "      <th>CARS</th>\n",
              "      <th>BLUECAR_COUNTER</th>\n",
              "      <th>UTILIB_COUNTER</th>\n",
              "      <th>UTILIB_1_4_COUNTER</th>\n",
              "      <th>CITY</th>\n",
              "      <th>POSTAL_CODE</th>\n",
              "      <th>PUBLIC_NAME</th>\n",
              "      <th>RENTAL_STATUS</th>\n",
              "      <th>DAY</th>\n",
              "      <th>HOUR</th>\n",
              "      <th>DATE</th>\n",
              "    </tr>\n",
              "  </thead>\n",
              "  <tbody>\n",
              "    <tr>\n",
              "      <th>1046</th>\n",
              "      <td>112 Rue Monge BÃ¢timent Lieu-dit</td>\n",
              "      <td>0</td>\n",
              "      <td>0</td>\n",
              "      <td>0</td>\n",
              "      <td>0</td>\n",
              "      <td>Paris</td>\n",
              "      <td>75005</td>\n",
              "      <td>Paris/Monge/112</td>\n",
              "      <td>operational</td>\n",
              "      <td>1</td>\n",
              "      <td>0</td>\n",
              "      <td>2018-04-01 00:00:00</td>\n",
              "    </tr>\n",
              "    <tr>\n",
              "      <th>2874</th>\n",
              "      <td>44 rue SÃebastien Mercier</td>\n",
              "      <td>0</td>\n",
              "      <td>0</td>\n",
              "      <td>0</td>\n",
              "      <td>0</td>\n",
              "      <td>Paris</td>\n",
              "      <td>75015</td>\n",
              "      <td>Paris/SÃbastien Mercier/44</td>\n",
              "      <td>operational</td>\n",
              "      <td>1</td>\n",
              "      <td>0</td>\n",
              "      <td>2018-04-01 00:02:00</td>\n",
              "    </tr>\n",
              "    <tr>\n",
              "      <th>1107</th>\n",
              "      <td>19 place de la Madeleine</td>\n",
              "      <td>0</td>\n",
              "      <td>0</td>\n",
              "      <td>0</td>\n",
              "      <td>0</td>\n",
              "      <td>Paris</td>\n",
              "      <td>75008</td>\n",
              "      <td>Paris/Madeleine Tronchet/Parking</td>\n",
              "      <td>operational</td>\n",
              "      <td>1</td>\n",
              "      <td>0</td>\n",
              "      <td>2018-04-01 00:02:00</td>\n",
              "    </tr>\n",
              "    <tr>\n",
              "      <th>2059</th>\n",
              "      <td>2 Avenue Mozart</td>\n",
              "      <td>1</td>\n",
              "      <td>1</td>\n",
              "      <td>0</td>\n",
              "      <td>0</td>\n",
              "      <td>Paris</td>\n",
              "      <td>75016</td>\n",
              "      <td>Paris/Mozart/2</td>\n",
              "      <td>operational</td>\n",
              "      <td>1</td>\n",
              "      <td>0</td>\n",
              "      <td>2018-04-01 00:03:00</td>\n",
              "    </tr>\n",
              "    <tr>\n",
              "      <th>4453</th>\n",
              "      <td>2 rue Neuve Saint-Pierre</td>\n",
              "      <td>0</td>\n",
              "      <td>0</td>\n",
              "      <td>0</td>\n",
              "      <td>0</td>\n",
              "      <td>Paris</td>\n",
              "      <td>75004</td>\n",
              "      <td>Paris/Neuve Saint-Pierre/2</td>\n",
              "      <td>operational</td>\n",
              "      <td>1</td>\n",
              "      <td>0</td>\n",
              "      <td>2018-04-01 00:04:00</td>\n",
              "    </tr>\n",
              "  </tbody>\n",
              "</table>\n",
              "</div>"
            ],
            "text/plain": [
              "                               ADDRESS  CARS  ...  HOUR                DATE\n",
              "1046  112 Rue Monge BÃ¢timent Lieu-dit     0  ...     0 2018-04-01 00:00:00\n",
              "2874         44 rue SÃebastien Mercier     0  ...     0 2018-04-01 00:02:00\n",
              "1107          19 place de la Madeleine     0  ...     0 2018-04-01 00:02:00\n",
              "2059                   2 Avenue Mozart     1  ...     0 2018-04-01 00:03:00\n",
              "4453          2 rue Neuve Saint-Pierre     0  ...     0 2018-04-01 00:04:00\n",
              "\n",
              "[5 rows x 12 columns]"
            ]
          },
          "metadata": {
            "tags": []
          },
          "execution_count": 454
        }
      ]
    },
    {
      "cell_type": "code",
      "metadata": {
        "colab": {
          "base_uri": "https://localhost:8080/"
        },
        "id": "K6O2n9718rA4",
        "outputId": "75fa8e70-8ac3-4dfa-f80c-c8b4f50ecb54"
      },
      "source": [
        "paris_only['BLUECAR_LAGS'] = paris_only['BLUECAR_COUNTER'].sub(paris_only['BLUECAR_COUNTER'].shift())\r\n",
        "paris_only['BLUECAR_LAGS'].iloc[0] = paris_only['BLUECAR_COUNTER'].iloc[0]"
      ],
      "execution_count": 462,
      "outputs": [
        {
          "output_type": "stream",
          "text": [
            "/usr/local/lib/python3.6/dist-packages/ipykernel_launcher.py:1: SettingWithCopyWarning: \n",
            "A value is trying to be set on a copy of a slice from a DataFrame.\n",
            "Try using .loc[row_indexer,col_indexer] = value instead\n",
            "\n",
            "See the caveats in the documentation: https://pandas.pydata.org/pandas-docs/stable/user_guide/indexing.html#returning-a-view-versus-a-copy\n",
            "  \"\"\"Entry point for launching an IPython kernel.\n",
            "/usr/local/lib/python3.6/dist-packages/pandas/core/indexing.py:670: SettingWithCopyWarning: \n",
            "A value is trying to be set on a copy of a slice from a DataFrame\n",
            "\n",
            "See the caveats in the documentation: https://pandas.pydata.org/pandas-docs/stable/user_guide/indexing.html#returning-a-view-versus-a-copy\n",
            "  iloc._setitem_with_indexer(indexer, value)\n",
            "/usr/local/lib/python3.6/dist-packages/ipykernel_launcher.py:2: SettingWithCopyWarning: \n",
            "A value is trying to be set on a copy of a slice from a DataFrame\n",
            "\n",
            "See the caveats in the documentation: https://pandas.pydata.org/pandas-docs/stable/user_guide/indexing.html#returning-a-view-versus-a-copy\n",
            "  \n"
          ],
          "name": "stderr"
        }
      ]
    },
    {
      "cell_type": "code",
      "metadata": {
        "colab": {
          "base_uri": "https://localhost:8080/"
        },
        "id": "c-0l4ZAD94x4",
        "outputId": "5a4dffc5-46af-4672-fb19-5ce5e72bce42"
      },
      "source": [
        "pop_hour_paris = paris_only[paris_only['BLUECAR_LAGS']<0].groupby('HOUR')['BLUECAR_LAGS'].count().sort_values(ascending = False)\r\n",
        "pop_hour_paris"
      ],
      "execution_count": 456,
      "outputs": [
        {
          "output_type": "execute_result",
          "data": {
            "text/plain": [
              "HOUR\n",
              "21    54\n",
              "19    50\n",
              "6     50\n",
              "3     49\n",
              "2     48\n",
              "8     47\n",
              "17    46\n",
              "12    46\n",
              "23    44\n",
              "7     44\n",
              "16    43\n",
              "15    43\n",
              "13    43\n",
              "0     42\n",
              "10    41\n",
              "9     40\n",
              "14    40\n",
              "5     39\n",
              "22    38\n",
              "1     37\n",
              "11    37\n",
              "4     36\n",
              "18    36\n",
              "20    34\n",
              "Name: BLUECAR_LAGS, dtype: int64"
            ]
          },
          "metadata": {
            "tags": []
          },
          "execution_count": 456
        }
      ]
    },
    {
      "cell_type": "code",
      "metadata": {
        "colab": {
          "base_uri": "https://localhost:8080/"
        },
        "id": "_blZqHL1rm0_",
        "outputId": "2da35afd-481d-436e-e7f7-dba46067a156"
      },
      "source": [
        "pop_hour_paris= paris_only['BLUECAR_LAGS']<0\r\n",
        "paris_only[pop_hour_paris].HOUR.mode(())"
      ],
      "execution_count": 461,
      "outputs": [
        {
          "output_type": "execute_result",
          "data": {
            "text/plain": [
              "0    21\n",
              "dtype: int64"
            ]
          },
          "metadata": {
            "tags": []
          },
          "execution_count": 461
        }
      ]
    },
    {
      "cell_type": "code",
      "metadata": {
        "colab": {
          "base_uri": "https://localhost:8080/",
          "height": 731
        },
        "id": "iT0rAmD0CbM3",
        "outputId": "f8132aa5-f214-4188-d90b-c3d76e0091eb"
      },
      "source": [
        "paris_only.head(22)"
      ],
      "execution_count": 336,
      "outputs": [
        {
          "output_type": "execute_result",
          "data": {
            "text/html": [
              "<div>\n",
              "<style scoped>\n",
              "    .dataframe tbody tr th:only-of-type {\n",
              "        vertical-align: middle;\n",
              "    }\n",
              "\n",
              "    .dataframe tbody tr th {\n",
              "        vertical-align: top;\n",
              "    }\n",
              "\n",
              "    .dataframe thead th {\n",
              "        text-align: right;\n",
              "    }\n",
              "</style>\n",
              "<table border=\"1\" class=\"dataframe\">\n",
              "  <thead>\n",
              "    <tr style=\"text-align: right;\">\n",
              "      <th></th>\n",
              "      <th>ADDRESS</th>\n",
              "      <th>CARS</th>\n",
              "      <th>BLUECAR_COUNTER</th>\n",
              "      <th>UTILIB_COUNTER</th>\n",
              "      <th>UTILIB_1_4_COUNTER</th>\n",
              "      <th>CHARGE_SLOTS</th>\n",
              "      <th>CITY</th>\n",
              "      <th>POSTAL_CODE</th>\n",
              "      <th>RENTAL_STATUS</th>\n",
              "      <th>DAY</th>\n",
              "      <th>HOUR</th>\n",
              "      <th>DATE</th>\n",
              "      <th>BLUECAR_LAGS</th>\n",
              "    </tr>\n",
              "  </thead>\n",
              "  <tbody>\n",
              "    <tr>\n",
              "      <th>1046</th>\n",
              "      <td>112 Rue Monge BÃ¢timent Lieu-dit</td>\n",
              "      <td>0</td>\n",
              "      <td>0</td>\n",
              "      <td>0</td>\n",
              "      <td>0</td>\n",
              "      <td>0</td>\n",
              "      <td>Paris</td>\n",
              "      <td>75005</td>\n",
              "      <td>operational</td>\n",
              "      <td>1</td>\n",
              "      <td>0</td>\n",
              "      <td>2018-04-01 00:00:00</td>\n",
              "      <td>0.0</td>\n",
              "    </tr>\n",
              "    <tr>\n",
              "      <th>2874</th>\n",
              "      <td>44 rue SÃ©bastien Mercier</td>\n",
              "      <td>0</td>\n",
              "      <td>0</td>\n",
              "      <td>0</td>\n",
              "      <td>0</td>\n",
              "      <td>0</td>\n",
              "      <td>Paris</td>\n",
              "      <td>75015</td>\n",
              "      <td>operational</td>\n",
              "      <td>1</td>\n",
              "      <td>0</td>\n",
              "      <td>2018-04-01 00:02:00</td>\n",
              "      <td>0.0</td>\n",
              "    </tr>\n",
              "    <tr>\n",
              "      <th>1107</th>\n",
              "      <td>19 place de la Madeleine</td>\n",
              "      <td>0</td>\n",
              "      <td>0</td>\n",
              "      <td>0</td>\n",
              "      <td>0</td>\n",
              "      <td>0</td>\n",
              "      <td>Paris</td>\n",
              "      <td>75008</td>\n",
              "      <td>operational</td>\n",
              "      <td>1</td>\n",
              "      <td>0</td>\n",
              "      <td>2018-04-01 00:02:00</td>\n",
              "      <td>0.0</td>\n",
              "    </tr>\n",
              "    <tr>\n",
              "      <th>2059</th>\n",
              "      <td>2 Avenue Mozart</td>\n",
              "      <td>1</td>\n",
              "      <td>1</td>\n",
              "      <td>0</td>\n",
              "      <td>0</td>\n",
              "      <td>0</td>\n",
              "      <td>Paris</td>\n",
              "      <td>75016</td>\n",
              "      <td>operational</td>\n",
              "      <td>1</td>\n",
              "      <td>0</td>\n",
              "      <td>2018-04-01 00:03:00</td>\n",
              "      <td>1.0</td>\n",
              "    </tr>\n",
              "    <tr>\n",
              "      <th>4453</th>\n",
              "      <td>2 rue Neuve Saint-Pierre</td>\n",
              "      <td>0</td>\n",
              "      <td>0</td>\n",
              "      <td>0</td>\n",
              "      <td>0</td>\n",
              "      <td>1</td>\n",
              "      <td>Paris</td>\n",
              "      <td>75004</td>\n",
              "      <td>operational</td>\n",
              "      <td>1</td>\n",
              "      <td>0</td>\n",
              "      <td>2018-04-01 00:04:00</td>\n",
              "      <td>-1.0</td>\n",
              "    </tr>\n",
              "    <tr>\n",
              "      <th>4357</th>\n",
              "      <td>11 rue Marguerite Long</td>\n",
              "      <td>3</td>\n",
              "      <td>3</td>\n",
              "      <td>0</td>\n",
              "      <td>0</td>\n",
              "      <td>0</td>\n",
              "      <td>Paris</td>\n",
              "      <td>75017</td>\n",
              "      <td>operational</td>\n",
              "      <td>1</td>\n",
              "      <td>0</td>\n",
              "      <td>2018-04-01 00:10:00</td>\n",
              "      <td>3.0</td>\n",
              "    </tr>\n",
              "    <tr>\n",
              "      <th>3535</th>\n",
              "      <td>8 rue Goubet</td>\n",
              "      <td>3</td>\n",
              "      <td>3</td>\n",
              "      <td>0</td>\n",
              "      <td>0</td>\n",
              "      <td>0</td>\n",
              "      <td>Paris</td>\n",
              "      <td>75019</td>\n",
              "      <td>operational</td>\n",
              "      <td>1</td>\n",
              "      <td>0</td>\n",
              "      <td>2018-04-01 00:11:00</td>\n",
              "      <td>0.0</td>\n",
              "    </tr>\n",
              "    <tr>\n",
              "      <th>3652</th>\n",
              "      <td>7 rue Raymond Pitet</td>\n",
              "      <td>4</td>\n",
              "      <td>4</td>\n",
              "      <td>0</td>\n",
              "      <td>0</td>\n",
              "      <td>0</td>\n",
              "      <td>Paris</td>\n",
              "      <td>75017</td>\n",
              "      <td>operational</td>\n",
              "      <td>1</td>\n",
              "      <td>0</td>\n",
              "      <td>2018-04-01 00:11:00</td>\n",
              "      <td>1.0</td>\n",
              "    </tr>\n",
              "    <tr>\n",
              "      <th>4792</th>\n",
              "      <td>20 Boulevard Ãmile Augier</td>\n",
              "      <td>3</td>\n",
              "      <td>3</td>\n",
              "      <td>1</td>\n",
              "      <td>0</td>\n",
              "      <td>1</td>\n",
              "      <td>Paris</td>\n",
              "      <td>75016</td>\n",
              "      <td>operational</td>\n",
              "      <td>1</td>\n",
              "      <td>0</td>\n",
              "      <td>2018-04-01 00:19:00</td>\n",
              "      <td>-1.0</td>\n",
              "    </tr>\n",
              "    <tr>\n",
              "      <th>3583</th>\n",
              "      <td>169 avenue de Flandre</td>\n",
              "      <td>3</td>\n",
              "      <td>3</td>\n",
              "      <td>0</td>\n",
              "      <td>0</td>\n",
              "      <td>1</td>\n",
              "      <td>Paris</td>\n",
              "      <td>75019</td>\n",
              "      <td>operational</td>\n",
              "      <td>1</td>\n",
              "      <td>0</td>\n",
              "      <td>2018-04-01 00:20:00</td>\n",
              "      <td>0.0</td>\n",
              "    </tr>\n",
              "    <tr>\n",
              "      <th>4934</th>\n",
              "      <td>115 avenue de Malakoff</td>\n",
              "      <td>4</td>\n",
              "      <td>4</td>\n",
              "      <td>0</td>\n",
              "      <td>0</td>\n",
              "      <td>0</td>\n",
              "      <td>Paris</td>\n",
              "      <td>75016</td>\n",
              "      <td>operational</td>\n",
              "      <td>1</td>\n",
              "      <td>0</td>\n",
              "      <td>2018-04-01 00:24:00</td>\n",
              "      <td>1.0</td>\n",
              "    </tr>\n",
              "    <tr>\n",
              "      <th>123</th>\n",
              "      <td>35 rue Mathis</td>\n",
              "      <td>0</td>\n",
              "      <td>0</td>\n",
              "      <td>0</td>\n",
              "      <td>0</td>\n",
              "      <td>0</td>\n",
              "      <td>Paris</td>\n",
              "      <td>75019</td>\n",
              "      <td>operational</td>\n",
              "      <td>1</td>\n",
              "      <td>0</td>\n",
              "      <td>2018-04-01 00:32:00</td>\n",
              "      <td>-4.0</td>\n",
              "    </tr>\n",
              "    <tr>\n",
              "      <th>978</th>\n",
              "      <td>2 Rue Fabre d'Ãglantine</td>\n",
              "      <td>2</td>\n",
              "      <td>2</td>\n",
              "      <td>0</td>\n",
              "      <td>0</td>\n",
              "      <td>1</td>\n",
              "      <td>Paris</td>\n",
              "      <td>75012</td>\n",
              "      <td>operational</td>\n",
              "      <td>1</td>\n",
              "      <td>0</td>\n",
              "      <td>2018-04-01 00:33:00</td>\n",
              "      <td>2.0</td>\n",
              "    </tr>\n",
              "    <tr>\n",
              "      <th>1026</th>\n",
              "      <td>12 Avenue de Messine</td>\n",
              "      <td>4</td>\n",
              "      <td>4</td>\n",
              "      <td>0</td>\n",
              "      <td>0</td>\n",
              "      <td>0</td>\n",
              "      <td>Paris</td>\n",
              "      <td>75008</td>\n",
              "      <td>operational</td>\n",
              "      <td>1</td>\n",
              "      <td>0</td>\n",
              "      <td>2018-04-01 00:34:00</td>\n",
              "      <td>2.0</td>\n",
              "    </tr>\n",
              "    <tr>\n",
              "      <th>3522</th>\n",
              "      <td>55 boulevard de la Villette</td>\n",
              "      <td>2</td>\n",
              "      <td>2</td>\n",
              "      <td>0</td>\n",
              "      <td>0</td>\n",
              "      <td>1</td>\n",
              "      <td>Paris</td>\n",
              "      <td>75010</td>\n",
              "      <td>operational</td>\n",
              "      <td>1</td>\n",
              "      <td>0</td>\n",
              "      <td>2018-04-01 00:35:00</td>\n",
              "      <td>-2.0</td>\n",
              "    </tr>\n",
              "    <tr>\n",
              "      <th>459</th>\n",
              "      <td>170 boulevard Pereire</td>\n",
              "      <td>3</td>\n",
              "      <td>3</td>\n",
              "      <td>0</td>\n",
              "      <td>0</td>\n",
              "      <td>0</td>\n",
              "      <td>Paris</td>\n",
              "      <td>75017</td>\n",
              "      <td>operational</td>\n",
              "      <td>1</td>\n",
              "      <td>0</td>\n",
              "      <td>2018-04-01 00:37:00</td>\n",
              "      <td>1.0</td>\n",
              "    </tr>\n",
              "    <tr>\n",
              "      <th>2410</th>\n",
              "      <td>55 boulevard de la Villette</td>\n",
              "      <td>2</td>\n",
              "      <td>2</td>\n",
              "      <td>0</td>\n",
              "      <td>0</td>\n",
              "      <td>1</td>\n",
              "      <td>Paris</td>\n",
              "      <td>75010</td>\n",
              "      <td>operational</td>\n",
              "      <td>1</td>\n",
              "      <td>0</td>\n",
              "      <td>2018-04-01 00:39:00</td>\n",
              "      <td>-1.0</td>\n",
              "    </tr>\n",
              "    <tr>\n",
              "      <th>3342</th>\n",
              "      <td>1 Rue Navier</td>\n",
              "      <td>5</td>\n",
              "      <td>5</td>\n",
              "      <td>0</td>\n",
              "      <td>0</td>\n",
              "      <td>0</td>\n",
              "      <td>Paris</td>\n",
              "      <td>75017</td>\n",
              "      <td>operational</td>\n",
              "      <td>1</td>\n",
              "      <td>0</td>\n",
              "      <td>2018-04-01 00:40:00</td>\n",
              "      <td>3.0</td>\n",
              "    </tr>\n",
              "    <tr>\n",
              "      <th>2182</th>\n",
              "      <td>7 rue de Pommard</td>\n",
              "      <td>0</td>\n",
              "      <td>0</td>\n",
              "      <td>0</td>\n",
              "      <td>0</td>\n",
              "      <td>0</td>\n",
              "      <td>Paris</td>\n",
              "      <td>75012</td>\n",
              "      <td>operational</td>\n",
              "      <td>1</td>\n",
              "      <td>0</td>\n",
              "      <td>2018-04-01 00:52:00</td>\n",
              "      <td>-5.0</td>\n",
              "    </tr>\n",
              "    <tr>\n",
              "      <th>535</th>\n",
              "      <td>1 rue Fernand Labori</td>\n",
              "      <td>3</td>\n",
              "      <td>3</td>\n",
              "      <td>0</td>\n",
              "      <td>0</td>\n",
              "      <td>1</td>\n",
              "      <td>Paris</td>\n",
              "      <td>75018</td>\n",
              "      <td>operational</td>\n",
              "      <td>1</td>\n",
              "      <td>1</td>\n",
              "      <td>2018-04-01 01:01:00</td>\n",
              "      <td>3.0</td>\n",
              "    </tr>\n",
              "    <tr>\n",
              "      <th>4167</th>\n",
              "      <td>2 square TolstoÃ¯</td>\n",
              "      <td>5</td>\n",
              "      <td>5</td>\n",
              "      <td>0</td>\n",
              "      <td>0</td>\n",
              "      <td>0</td>\n",
              "      <td>Paris</td>\n",
              "      <td>75016</td>\n",
              "      <td>operational</td>\n",
              "      <td>1</td>\n",
              "      <td>1</td>\n",
              "      <td>2018-04-01 01:03:00</td>\n",
              "      <td>2.0</td>\n",
              "    </tr>\n",
              "    <tr>\n",
              "      <th>2490</th>\n",
              "      <td>8 avenue de Choisy</td>\n",
              "      <td>1</td>\n",
              "      <td>1</td>\n",
              "      <td>0</td>\n",
              "      <td>1</td>\n",
              "      <td>0</td>\n",
              "      <td>Paris</td>\n",
              "      <td>75013</td>\n",
              "      <td>operational</td>\n",
              "      <td>1</td>\n",
              "      <td>1</td>\n",
              "      <td>2018-04-01 01:12:00</td>\n",
              "      <td>-4.0</td>\n",
              "    </tr>\n",
              "  </tbody>\n",
              "</table>\n",
              "</div>"
            ],
            "text/plain": [
              "                               ADDRESS  CARS  ...                DATE  BLUECAR_LAGS\n",
              "1046  112 Rue Monge BÃ¢timent Lieu-dit     0  ... 2018-04-01 00:00:00           0.0\n",
              "2874         44 rue SÃ©bastien Mercier     0  ... 2018-04-01 00:02:00           0.0\n",
              "1107          19 place de la Madeleine     0  ... 2018-04-01 00:02:00           0.0\n",
              "2059                   2 Avenue Mozart     1  ... 2018-04-01 00:03:00           1.0\n",
              "4453          2 rue Neuve Saint-Pierre     0  ... 2018-04-01 00:04:00          -1.0\n",
              "4357            11 rue Marguerite Long     3  ... 2018-04-01 00:10:00           3.0\n",
              "3535                      8 rue Goubet     3  ... 2018-04-01 00:11:00           0.0\n",
              "3652               7 rue Raymond Pitet     4  ... 2018-04-01 00:11:00           1.0\n",
              "4792        20 Boulevard Ãmile Augier     3  ... 2018-04-01 00:19:00          -1.0\n",
              "3583             169 avenue de Flandre     3  ... 2018-04-01 00:20:00           0.0\n",
              "4934            115 avenue de Malakoff     4  ... 2018-04-01 00:24:00           1.0\n",
              "123                      35 rue Mathis     0  ... 2018-04-01 00:32:00          -4.0\n",
              "978           2 Rue Fabre d'Ãglantine     2  ... 2018-04-01 00:33:00           2.0\n",
              "1026              12 Avenue de Messine     4  ... 2018-04-01 00:34:00           2.0\n",
              "3522       55 boulevard de la Villette     2  ... 2018-04-01 00:35:00          -2.0\n",
              "459              170 boulevard Pereire     3  ... 2018-04-01 00:37:00           1.0\n",
              "2410       55 boulevard de la Villette     2  ... 2018-04-01 00:39:00          -1.0\n",
              "3342                      1 Rue Navier     5  ... 2018-04-01 00:40:00           3.0\n",
              "2182                  7 rue de Pommard     0  ... 2018-04-01 00:52:00          -5.0\n",
              "535               1 rue Fernand Labori     3  ... 2018-04-01 01:01:00           3.0\n",
              "4167                 2 square TolstoÃ¯     5  ... 2018-04-01 01:03:00           2.0\n",
              "2490                8 avenue de Choisy     1  ... 2018-04-01 01:12:00          -4.0\n",
              "\n",
              "[22 rows x 13 columns]"
            ]
          },
          "metadata": {
            "tags": []
          },
          "execution_count": 336
        }
      ]
    },
    {
      "cell_type": "markdown",
      "metadata": {
        "id": "bY33hcDSvN5I"
      },
      "source": [
        "2. What is the most popular hour for returning cars?"
      ]
    },
    {
      "cell_type": "code",
      "metadata": {
        "colab": {
          "base_uri": "https://localhost:8080/"
        },
        "id": "tLq87P3SB9Cw",
        "outputId": "2c59e011-e009-4052-f49b-eb8a12baee00"
      },
      "source": [
        "paris_only['BLUECAR_LAGS'] = paris_only['BLUECAR_COUNTER'].sub(paris_only['BLUECAR_COUNTER'].shift())\r\n",
        "paris_only['BLUECAR_LAGS'].iloc[0] = paris_only['BLUECAR_COUNTER'].iloc[0]\r\n",
        "\r\n",
        "pop_hour_paris = paris_only[paris_only['BLUECAR_LAGS'] >0 ].groupby('HOUR')['HOUR'].count().sort_values(ascending = False)\r\n",
        "pop_hour_paris"
      ],
      "execution_count": 458,
      "outputs": [
        {
          "output_type": "stream",
          "text": [
            "/usr/local/lib/python3.6/dist-packages/ipykernel_launcher.py:1: SettingWithCopyWarning: \n",
            "A value is trying to be set on a copy of a slice from a DataFrame.\n",
            "Try using .loc[row_indexer,col_indexer] = value instead\n",
            "\n",
            "See the caveats in the documentation: https://pandas.pydata.org/pandas-docs/stable/user_guide/indexing.html#returning-a-view-versus-a-copy\n",
            "  \"\"\"Entry point for launching an IPython kernel.\n",
            "/usr/local/lib/python3.6/dist-packages/pandas/core/indexing.py:670: SettingWithCopyWarning: \n",
            "A value is trying to be set on a copy of a slice from a DataFrame\n",
            "\n",
            "See the caveats in the documentation: https://pandas.pydata.org/pandas-docs/stable/user_guide/indexing.html#returning-a-view-versus-a-copy\n",
            "  iloc._setitem_with_indexer(indexer, value)\n",
            "/usr/local/lib/python3.6/dist-packages/ipykernel_launcher.py:2: SettingWithCopyWarning: \n",
            "A value is trying to be set on a copy of a slice from a DataFrame\n",
            "\n",
            "See the caveats in the documentation: https://pandas.pydata.org/pandas-docs/stable/user_guide/indexing.html#returning-a-view-versus-a-copy\n",
            "  \n"
          ],
          "name": "stderr"
        },
        {
          "output_type": "execute_result",
          "data": {
            "text/plain": [
              "HOUR\n",
              "21    51\n",
              "8     50\n",
              "7     50\n",
              "4     49\n",
              "5     49\n",
              "16    48\n",
              "9     48\n",
              "0     46\n",
              "1     46\n",
              "18    46\n",
              "15    45\n",
              "6     44\n",
              "17    43\n",
              "22    42\n",
              "3     41\n",
              "23    41\n",
              "10    41\n",
              "19    41\n",
              "20    41\n",
              "13    40\n",
              "2     39\n",
              "11    39\n",
              "12    37\n",
              "14    36\n",
              "Name: HOUR, dtype: int64"
            ]
          },
          "metadata": {
            "tags": []
          },
          "execution_count": 458
        }
      ]
    },
    {
      "cell_type": "code",
      "metadata": {
        "colab": {
          "base_uri": "https://localhost:8080/"
        },
        "id": "9iY4bFNuqrdf",
        "outputId": "d55f4faf-f600-4a89-a80f-849670fa95f0"
      },
      "source": [
        "pop_hour_paris= paris_only['BLUECAR_LAGS']>0\r\n",
        "paris_only[pop_hour_paris].HOUR.mode(())"
      ],
      "execution_count": 460,
      "outputs": [
        {
          "output_type": "execute_result",
          "data": {
            "text/plain": [
              "0    21\n",
              "dtype: int64"
            ]
          },
          "metadata": {
            "tags": []
          },
          "execution_count": 460
        }
      ]
    },
    {
      "cell_type": "markdown",
      "metadata": {
        "id": "LWM563atEJIO"
      },
      "source": [
        "3. What station is the most popular?\r\n",
        "Overall?\r\n",
        "At the most popular picking hour?"
      ]
    },
    {
      "cell_type": "code",
      "metadata": {
        "colab": {
          "base_uri": "https://localhost:8080/"
        },
        "id": "8_N9E4lkD5mx",
        "outputId": "7c3dbbd6-8cdf-4abd-9a06-1ee5a2c45136"
      },
      "source": [
        "#Most Popular Station. Groupingby Address\r\n",
        "paris_only.groupby(\"PUBLIC_NAME\")['BLUECAR_COUNTER'].sum().sort_values(ascending=False)"
      ],
      "execution_count": 466,
      "outputs": [
        {
          "output_type": "execute_result",
          "data": {
            "text/plain": [
              "PUBLIC_NAME\n",
              "Paris/Philippe Auguste/126     42\n",
              "Paris/Porte de Montrouge/8     39\n",
              "Paris/Taillebourg/2            38\n",
              "Paris/Adolphe Yvon/6           37\n",
              "Paris/Raymond Losserand/229    35\n",
              "                               ..\n",
              "Paris/Roubo/1                   0\n",
              "Paris/Joseph Bara/15            0\n",
              "Paris/Milton/12                 0\n",
              "Paris/Berbier du Mets/26        0\n",
              "Paris/Maine/4                   0\n",
              "Name: BLUECAR_COUNTER, Length: 567, dtype: int64"
            ]
          },
          "metadata": {
            "tags": []
          },
          "execution_count": 466
        }
      ]
    },
    {
      "cell_type": "code",
      "metadata": {
        "colab": {
          "base_uri": "https://localhost:8080/"
        },
        "id": "yk1LjiKPFFrY",
        "outputId": "f2e90854-d750-4195-939a-0231fd4b9ee3"
      },
      "source": [
        "#Most Popular Hour\r\n",
        "paris_only[paris_only['BLUECAR_LAGS']<0].groupby(\"HOUR\")['HOUR'].sum().sort_values(ascending=False)"
      ],
      "execution_count": 467,
      "outputs": [
        {
          "output_type": "execute_result",
          "data": {
            "text/plain": [
              "HOUR\n",
              "21    1134\n",
              "23    1012\n",
              "19     950\n",
              "22     836\n",
              "17     782\n",
              "16     688\n",
              "20     680\n",
              "18     648\n",
              "15     645\n",
              "14     560\n",
              "13     559\n",
              "12     552\n",
              "10     410\n",
              "11     407\n",
              "8      376\n",
              "9      360\n",
              "7      308\n",
              "6      300\n",
              "5      195\n",
              "3      147\n",
              "4      144\n",
              "2       96\n",
              "1       37\n",
              "0        0\n",
              "Name: HOUR, dtype: int64"
            ]
          },
          "metadata": {
            "tags": []
          },
          "execution_count": 467
        }
      ]
    },
    {
      "cell_type": "code",
      "metadata": {
        "colab": {
          "base_uri": "https://localhost:8080/"
        },
        "id": "sVHhS6hgG62H",
        "outputId": "9a42fe90-10ab-44c5-a497-d5da7512492c"
      },
      "source": [
        "#Station and Most Popular Picking Hour\r\n",
        "\r\n",
        "#autolib_new_set[autolib_new_set['HOURS']==21]\r\n",
        "paris_only[paris_only['HOUR']==21].groupby(\"PUBLIC_NAME\")[\"PUBLIC_NAME\"].count().sort_values(ascending= False)"
      ],
      "execution_count": 465,
      "outputs": [
        {
          "output_type": "execute_result",
          "data": {
            "text/plain": [
              "PUBLIC_NAME\n",
              "Paris/Tronchet/19                 4\n",
              "Paris/Voltaire/182                3\n",
              "Paris/Ãmile Reynaud/4            2\n",
              "Paris/Mozart/68                   2\n",
              "Paris/Belleville/22               2\n",
              "                                 ..\n",
              "Paris/Pont Louis-Philippe/24      1\n",
              "Paris/Porte d'Aubervilliers/10    1\n",
              "Paris/Porte de Montrouge/8        1\n",
              "Paris/PyrÃnÃes/137                1\n",
              "Paris/25 AoÃ»t 1944/8             1\n",
              "Name: PUBLIC_NAME, Length: 117, dtype: int64"
            ]
          },
          "metadata": {
            "tags": []
          },
          "execution_count": 465
        }
      ]
    },
    {
      "cell_type": "markdown",
      "metadata": {
        "id": "0p6YmWoNH80n"
      },
      "source": [
        "4. Do the results change if you consider Utilib and Utilib 1.4 instead of Blue cars?"
      ]
    },
    {
      "cell_type": "code",
      "metadata": {
        "colab": {
          "base_uri": "https://localhost:8080/"
        },
        "id": "Ddo7sX7LLnk4",
        "outputId": "47f60211-9cd7-4684-b952-1036f322a115"
      },
      "source": [
        "paris_only.info()"
      ],
      "execution_count": 341,
      "outputs": [
        {
          "output_type": "stream",
          "text": [
            "<class 'pandas.core.frame.DataFrame'>\n",
            "Int64Index: 2629 entries, 1046 to 3201\n",
            "Data columns (total 13 columns):\n",
            " #   Column              Non-Null Count  Dtype         \n",
            "---  ------              --------------  -----         \n",
            " 0   ADDRESS             2629 non-null   object        \n",
            " 1   CARS                2629 non-null   int64         \n",
            " 2   BLUECAR_COUNTER     2629 non-null   int64         \n",
            " 3   UTILIB_COUNTER      2629 non-null   int64         \n",
            " 4   UTILIB_1_4_COUNTER  2629 non-null   int64         \n",
            " 5   CHARGE_SLOTS        2629 non-null   int64         \n",
            " 6   CITY                2629 non-null   object        \n",
            " 7   POSTAL_CODE         2629 non-null   int64         \n",
            " 8   RENTAL_STATUS       2629 non-null   object        \n",
            " 9   DAY                 2629 non-null   int64         \n",
            " 10  HOUR                2629 non-null   int64         \n",
            " 11  DATE                2629 non-null   datetime64[ns]\n",
            " 12  BLUECAR_LAGS        2629 non-null   float64       \n",
            "dtypes: datetime64[ns](1), float64(1), int64(8), object(3)\n",
            "memory usage: 287.5+ KB\n"
          ],
          "name": "stdout"
        }
      ]
    },
    {
      "cell_type": "code",
      "metadata": {
        "id": "VzUEwfTFH52X"
      },
      "source": [
        "paris_only['BLUECAR_LAGS'] = paris_only['BLUECAR_COUNTER'].sub(paris_only['BLUECAR_COUNTER'].shift())\r\n",
        "paris_only['BLUECAR_LAGS'].iloc[0] = paris_only['BLUECAR_COUNTER'].iloc[0]"
      ],
      "execution_count": null,
      "outputs": []
    }
  ]
}